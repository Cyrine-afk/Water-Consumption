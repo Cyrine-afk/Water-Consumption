{
 "cells": [
  {
   "cell_type": "code",
   "execution_count": 314,
   "metadata": {},
   "outputs": [],
   "source": [
    "#importing pandas library\n",
    "import pandas as pd"
   ]
  },
  {
   "cell_type": "code",
   "execution_count": 315,
   "metadata": {},
   "outputs": [],
   "source": [
    "\n",
    "#changing the settings to show all rows and columns\n",
    "#pd.set_option('display.max_columns', None)\n",
    "#pd.set_option('display.max_rows', None)"
   ]
  },
  {
   "cell_type": "code",
   "execution_count": 316,
   "metadata": {},
   "outputs": [
    {
     "data": {
      "text/html": [
       "<div>\n",
       "<style scoped>\n",
       "    .dataframe tbody tr th:only-of-type {\n",
       "        vertical-align: middle;\n",
       "    }\n",
       "\n",
       "    .dataframe tbody tr th {\n",
       "        vertical-align: top;\n",
       "    }\n",
       "\n",
       "    .dataframe thead th {\n",
       "        text-align: right;\n",
       "    }\n",
       "</style>\n",
       "<table border=\"1\" class=\"dataframe\">\n",
       "  <thead>\n",
       "    <tr style=\"text-align: right;\">\n",
       "      <th></th>\n",
       "      <th>{\"_id\":{\"$oid\":\"61543c5dfcfbb44e6a99bbf2\"}</th>\n",
       "      <th>debit:0.0</th>\n",
       "      <th>cumul:3.8</th>\n",
       "      <th>date:\"2021-09-29 11:13:49\"}</th>\n",
       "    </tr>\n",
       "  </thead>\n",
       "  <tbody>\n",
       "    <tr>\n",
       "      <th>0</th>\n",
       "      <td>{\"_id\":{\"$oid\":\"61543c6cfcfbb44e6a99bbf3\"}</td>\n",
       "      <td>debit:0.0</td>\n",
       "      <td>cumul:3.8</td>\n",
       "      <td>date:\"2021-09-29 11:14:04\"}</td>\n",
       "    </tr>\n",
       "    <tr>\n",
       "      <th>1</th>\n",
       "      <td>{\"_id\":{\"$oid\":\"61543c7cfcfbb44e6a99bbf4\"}</td>\n",
       "      <td>debit:0.0</td>\n",
       "      <td>cumul:3.8</td>\n",
       "      <td>date:\"2021-09-29 11:14:20\"}</td>\n",
       "    </tr>\n",
       "    <tr>\n",
       "      <th>2</th>\n",
       "      <td>{\"_id\":{\"$oid\":\"61543c99e6e0e637b27d8a03\"}</td>\n",
       "      <td>debit:0.0</td>\n",
       "      <td>cumul:3.8</td>\n",
       "      <td>date:\"2021-09-29 11:14:49\"}</td>\n",
       "    </tr>\n",
       "    <tr>\n",
       "      <th>3</th>\n",
       "      <td>{\"_id\":{\"$oid\":\"61543ca8e6e0e637b27d8a04\"}</td>\n",
       "      <td>debit:0.0</td>\n",
       "      <td>cumul:3.8</td>\n",
       "      <td>date:\"2021-09-29 11:15:04\"}</td>\n",
       "    </tr>\n",
       "    <tr>\n",
       "      <th>4</th>\n",
       "      <td>{\"_id\":{\"$oid\":\"61543cb8e6e0e637b27d8a05\"}</td>\n",
       "      <td>debit:0.0</td>\n",
       "      <td>cumul:3.8</td>\n",
       "      <td>date:\"2021-09-29 11:15:20\"}</td>\n",
       "    </tr>\n",
       "    <tr>\n",
       "      <th>...</th>\n",
       "      <td>...</td>\n",
       "      <td>...</td>\n",
       "      <td>...</td>\n",
       "      <td>...</td>\n",
       "    </tr>\n",
       "    <tr>\n",
       "      <th>794278</th>\n",
       "      <td>{\"_id\":{\"$oid\":\"629308d55041e6ca60747361\"}</td>\n",
       "      <td>debit:0.0</td>\n",
       "      <td>cumul:17153.7</td>\n",
       "      <td>date:\"2022-05-29 06:47:01\"}</td>\n",
       "    </tr>\n",
       "    <tr>\n",
       "      <th>794279</th>\n",
       "      <td>{\"_id\":{\"$oid\":\"629308e45041e6ca60747362\"}</td>\n",
       "      <td>debit:0.0</td>\n",
       "      <td>cumul:17153.7</td>\n",
       "      <td>date:\"2022-05-29 06:47:16\"}</td>\n",
       "    </tr>\n",
       "    <tr>\n",
       "      <th>794280</th>\n",
       "      <td>{\"_id\":{\"$oid\":\"629308f35041e6ca60747363\"}</td>\n",
       "      <td>debit:0.0</td>\n",
       "      <td>cumul:17153.7</td>\n",
       "      <td>date:\"2022-05-29 06:47:31\"}</td>\n",
       "    </tr>\n",
       "    <tr>\n",
       "      <th>794281</th>\n",
       "      <td>{\"_id\":{\"$oid\":\"629309035041e6ca60747364\"}</td>\n",
       "      <td>debit:0.0</td>\n",
       "      <td>cumul:17153.7</td>\n",
       "      <td>date:\"2022-05-29 06:47:47\"}</td>\n",
       "    </tr>\n",
       "    <tr>\n",
       "      <th>794282</th>\n",
       "      <td>{\"_id\":{\"$oid\":\"629309125041e6ca60747365\"}</td>\n",
       "      <td>debit:0.0</td>\n",
       "      <td>cumul:17153.7</td>\n",
       "      <td>date:\"2022-05-29 06:48:02\"}</td>\n",
       "    </tr>\n",
       "  </tbody>\n",
       "</table>\n",
       "<p>794283 rows × 4 columns</p>\n",
       "</div>"
      ],
      "text/plain": [
       "        {\"_id\":{\"$oid\":\"61543c5dfcfbb44e6a99bbf2\"}  debit:0.0      cumul:3.8  \\\n",
       "0       {\"_id\":{\"$oid\":\"61543c6cfcfbb44e6a99bbf3\"}  debit:0.0      cumul:3.8   \n",
       "1       {\"_id\":{\"$oid\":\"61543c7cfcfbb44e6a99bbf4\"}  debit:0.0      cumul:3.8   \n",
       "2       {\"_id\":{\"$oid\":\"61543c99e6e0e637b27d8a03\"}  debit:0.0      cumul:3.8   \n",
       "3       {\"_id\":{\"$oid\":\"61543ca8e6e0e637b27d8a04\"}  debit:0.0      cumul:3.8   \n",
       "4       {\"_id\":{\"$oid\":\"61543cb8e6e0e637b27d8a05\"}  debit:0.0      cumul:3.8   \n",
       "...                                            ...        ...            ...   \n",
       "794278  {\"_id\":{\"$oid\":\"629308d55041e6ca60747361\"}  debit:0.0  cumul:17153.7   \n",
       "794279  {\"_id\":{\"$oid\":\"629308e45041e6ca60747362\"}  debit:0.0  cumul:17153.7   \n",
       "794280  {\"_id\":{\"$oid\":\"629308f35041e6ca60747363\"}  debit:0.0  cumul:17153.7   \n",
       "794281  {\"_id\":{\"$oid\":\"629309035041e6ca60747364\"}  debit:0.0  cumul:17153.7   \n",
       "794282  {\"_id\":{\"$oid\":\"629309125041e6ca60747365\"}  debit:0.0  cumul:17153.7   \n",
       "\n",
       "        date:\"2021-09-29 11:13:49\"}  \n",
       "0       date:\"2021-09-29 11:14:04\"}  \n",
       "1       date:\"2021-09-29 11:14:20\"}  \n",
       "2       date:\"2021-09-29 11:14:49\"}  \n",
       "3       date:\"2021-09-29 11:15:04\"}  \n",
       "4       date:\"2021-09-29 11:15:20\"}  \n",
       "...                             ...  \n",
       "794278  date:\"2022-05-29 06:47:01\"}  \n",
       "794279  date:\"2022-05-29 06:47:16\"}  \n",
       "794280  date:\"2022-05-29 06:47:31\"}  \n",
       "794281  date:\"2022-05-29 06:47:47\"}  \n",
       "794282  date:\"2022-05-29 06:48:02\"}  \n",
       "\n",
       "[794283 rows x 4 columns]"
      ]
     },
     "execution_count": 316,
     "metadata": {},
     "output_type": "execute_result"
    }
   ],
   "source": [
    "#reading the database file\n",
    "water_db = pd.read_csv('DROPPY.json')\n",
    "water_db"
   ]
  },
  {
   "cell_type": "code",
   "execution_count": 317,
   "metadata": {},
   "outputs": [
    {
     "data": {
      "text/plain": [
       "debit:0.0    778414\n",
       "debit:1.1      2595\n",
       "debit:1.2      2306\n",
       "debit:0.1      1171\n",
       "debit:0.2       994\n",
       "debit:0.3       962\n",
       "debit:1.0       937\n",
       "debit:0.4       921\n",
       "debit:1.3       755\n",
       "debit:0.5       751\n",
       "debit:0.6       732\n",
       "debit:0.8       713\n",
       "debit:0.7       651\n",
       "debit:0.9       577\n",
       "debit:1.4       442\n",
       "debit:1.5       266\n",
       "debit:1.6       211\n",
       "debit:1.7       179\n",
       "debit:1.8       115\n",
       "debit:1.9        84\n",
       "debit:2.1        58\n",
       "debit:2.0        57\n",
       "debit:2.2        56\n",
       "debit:2.3        37\n",
       "debit:2.4        36\n",
       "debit:2.5        31\n",
       "debit:2.6        28\n",
       "debit:2.8        24\n",
       "debit:2.9        23\n",
       "debit:2.7        20\n",
       "debit:3.1        16\n",
       "debit:3.0        15\n",
       "debit:3.5        15\n",
       "debit:3.6        14\n",
       "debit:3.4        10\n",
       "debit:3.3        10\n",
       "debit:3.7         9\n",
       "debit:3.2         8\n",
       "debit:4.1         8\n",
       "debit:4.3         7\n",
       "debit:3.8         7\n",
       "debit:4.4         6\n",
       "debit:3.9         6\n",
       "debit:4.0         2\n",
       "debit:4.2         2\n",
       "debit:4.6         2\n",
       "Name: debit:0.0, dtype: int64"
      ]
     },
     "execution_count": 317,
     "metadata": {},
     "output_type": "execute_result"
    }
   ],
   "source": [
    "#checking débit values\n",
    "water_db['debit:0.0'].value_counts()"
   ]
  },
  {
   "cell_type": "code",
   "execution_count": 318,
   "metadata": {},
   "outputs": [
    {
     "data": {
      "text/plain": [
       "Index(['{\"_id\":{\"$oid\":\"61543c5dfcfbb44e6a99bbf2\"}', 'debit:0.0', 'cumul:3.8',\n",
       "       'date:\"2021-09-29 11:13:49\"}'],\n",
       "      dtype='object')"
      ]
     },
     "execution_count": 318,
     "metadata": {},
     "output_type": "execute_result"
    }
   ],
   "source": [
    "#getting columns names\n",
    "water_db.columns"
   ]
  },
  {
   "cell_type": "code",
   "execution_count": 319,
   "metadata": {},
   "outputs": [
    {
     "data": {
      "text/html": [
       "<div>\n",
       "<style scoped>\n",
       "    .dataframe tbody tr th:only-of-type {\n",
       "        vertical-align: middle;\n",
       "    }\n",
       "\n",
       "    .dataframe tbody tr th {\n",
       "        vertical-align: top;\n",
       "    }\n",
       "\n",
       "    .dataframe thead th {\n",
       "        text-align: right;\n",
       "    }\n",
       "</style>\n",
       "<table border=\"1\" class=\"dataframe\">\n",
       "  <thead>\n",
       "    <tr style=\"text-align: right;\">\n",
       "      <th></th>\n",
       "      <th>{\"_id\":{\"$oid\":\"61543c5dfcfbb44e6a99bbf2\"}</th>\n",
       "      <th>debit:0.0</th>\n",
       "      <th>cumul:3.8</th>\n",
       "      <th>date:\"2021-09-29 11:13:49\"}</th>\n",
       "    </tr>\n",
       "  </thead>\n",
       "  <tbody>\n",
       "    <tr>\n",
       "      <th>0</th>\n",
       "      <td>{\"_id\":{\"$oid\":\"61543c6cfcfbb44e6a99bbf3\"}</td>\n",
       "      <td>debit:0.0</td>\n",
       "      <td>cumul:3.8</td>\n",
       "      <td>date:\"2021-09-29 11:14:04\"}</td>\n",
       "    </tr>\n",
       "    <tr>\n",
       "      <th>1</th>\n",
       "      <td>{\"_id\":{\"$oid\":\"61543c7cfcfbb44e6a99bbf4\"}</td>\n",
       "      <td>debit:0.0</td>\n",
       "      <td>cumul:3.8</td>\n",
       "      <td>date:\"2021-09-29 11:14:20\"}</td>\n",
       "    </tr>\n",
       "    <tr>\n",
       "      <th>2</th>\n",
       "      <td>{\"_id\":{\"$oid\":\"61543c99e6e0e637b27d8a03\"}</td>\n",
       "      <td>debit:0.0</td>\n",
       "      <td>cumul:3.8</td>\n",
       "      <td>date:\"2021-09-29 11:14:49\"}</td>\n",
       "    </tr>\n",
       "    <tr>\n",
       "      <th>3</th>\n",
       "      <td>{\"_id\":{\"$oid\":\"61543ca8e6e0e637b27d8a04\"}</td>\n",
       "      <td>debit:0.0</td>\n",
       "      <td>cumul:3.8</td>\n",
       "      <td>date:\"2021-09-29 11:15:04\"}</td>\n",
       "    </tr>\n",
       "    <tr>\n",
       "      <th>4</th>\n",
       "      <td>{\"_id\":{\"$oid\":\"61543cb8e6e0e637b27d8a05\"}</td>\n",
       "      <td>debit:0.0</td>\n",
       "      <td>cumul:3.8</td>\n",
       "      <td>date:\"2021-09-29 11:15:20\"}</td>\n",
       "    </tr>\n",
       "    <tr>\n",
       "      <th>...</th>\n",
       "      <td>...</td>\n",
       "      <td>...</td>\n",
       "      <td>...</td>\n",
       "      <td>...</td>\n",
       "    </tr>\n",
       "    <tr>\n",
       "      <th>794278</th>\n",
       "      <td>{\"_id\":{\"$oid\":\"629308d55041e6ca60747361\"}</td>\n",
       "      <td>debit:0.0</td>\n",
       "      <td>cumul:17153.7</td>\n",
       "      <td>date:\"2022-05-29 06:47:01\"}</td>\n",
       "    </tr>\n",
       "    <tr>\n",
       "      <th>794279</th>\n",
       "      <td>{\"_id\":{\"$oid\":\"629308e45041e6ca60747362\"}</td>\n",
       "      <td>debit:0.0</td>\n",
       "      <td>cumul:17153.7</td>\n",
       "      <td>date:\"2022-05-29 06:47:16\"}</td>\n",
       "    </tr>\n",
       "    <tr>\n",
       "      <th>794280</th>\n",
       "      <td>{\"_id\":{\"$oid\":\"629308f35041e6ca60747363\"}</td>\n",
       "      <td>debit:0.0</td>\n",
       "      <td>cumul:17153.7</td>\n",
       "      <td>date:\"2022-05-29 06:47:31\"}</td>\n",
       "    </tr>\n",
       "    <tr>\n",
       "      <th>794281</th>\n",
       "      <td>{\"_id\":{\"$oid\":\"629309035041e6ca60747364\"}</td>\n",
       "      <td>debit:0.0</td>\n",
       "      <td>cumul:17153.7</td>\n",
       "      <td>date:\"2022-05-29 06:47:47\"}</td>\n",
       "    </tr>\n",
       "    <tr>\n",
       "      <th>794282</th>\n",
       "      <td>{\"_id\":{\"$oid\":\"629309125041e6ca60747365\"}</td>\n",
       "      <td>debit:0.0</td>\n",
       "      <td>cumul:17153.7</td>\n",
       "      <td>date:\"2022-05-29 06:48:02\"}</td>\n",
       "    </tr>\n",
       "  </tbody>\n",
       "</table>\n",
       "<p>794283 rows × 4 columns</p>\n",
       "</div>"
      ],
      "text/plain": [
       "        {\"_id\":{\"$oid\":\"61543c5dfcfbb44e6a99bbf2\"}  debit:0.0      cumul:3.8  \\\n",
       "0       {\"_id\":{\"$oid\":\"61543c6cfcfbb44e6a99bbf3\"}  debit:0.0      cumul:3.8   \n",
       "1       {\"_id\":{\"$oid\":\"61543c7cfcfbb44e6a99bbf4\"}  debit:0.0      cumul:3.8   \n",
       "2       {\"_id\":{\"$oid\":\"61543c99e6e0e637b27d8a03\"}  debit:0.0      cumul:3.8   \n",
       "3       {\"_id\":{\"$oid\":\"61543ca8e6e0e637b27d8a04\"}  debit:0.0      cumul:3.8   \n",
       "4       {\"_id\":{\"$oid\":\"61543cb8e6e0e637b27d8a05\"}  debit:0.0      cumul:3.8   \n",
       "...                                            ...        ...            ...   \n",
       "794278  {\"_id\":{\"$oid\":\"629308d55041e6ca60747361\"}  debit:0.0  cumul:17153.7   \n",
       "794279  {\"_id\":{\"$oid\":\"629308e45041e6ca60747362\"}  debit:0.0  cumul:17153.7   \n",
       "794280  {\"_id\":{\"$oid\":\"629308f35041e6ca60747363\"}  debit:0.0  cumul:17153.7   \n",
       "794281  {\"_id\":{\"$oid\":\"629309035041e6ca60747364\"}  debit:0.0  cumul:17153.7   \n",
       "794282  {\"_id\":{\"$oid\":\"629309125041e6ca60747365\"}  debit:0.0  cumul:17153.7   \n",
       "\n",
       "        date:\"2021-09-29 11:13:49\"}  \n",
       "0       date:\"2021-09-29 11:14:04\"}  \n",
       "1       date:\"2021-09-29 11:14:20\"}  \n",
       "2       date:\"2021-09-29 11:14:49\"}  \n",
       "3       date:\"2021-09-29 11:15:04\"}  \n",
       "4       date:\"2021-09-29 11:15:20\"}  \n",
       "...                             ...  \n",
       "794278  date:\"2022-05-29 06:47:01\"}  \n",
       "794279  date:\"2022-05-29 06:47:16\"}  \n",
       "794280  date:\"2022-05-29 06:47:31\"}  \n",
       "794281  date:\"2022-05-29 06:47:47\"}  \n",
       "794282  date:\"2022-05-29 06:48:02\"}  \n",
       "\n",
       "[794283 rows x 4 columns]"
      ]
     },
     "execution_count": 319,
     "metadata": {},
     "output_type": "execute_result"
    }
   ],
   "source": [
    "#creating a copy of the dataset\n",
    "water_db_subset = water_db[['{\"_id\":{\"$oid\":\"61543c5dfcfbb44e6a99bbf2\"}', 'debit:0.0', 'cumul:3.8', 'date:\"2021-09-29 11:13:49\"}']]\n",
    "water_db_subset"
   ]
  },
  {
   "cell_type": "code",
   "execution_count": 320,
   "metadata": {},
   "outputs": [],
   "source": [
    "#converting .json file into a dataframe\n",
    "water_db_json_file = 'DROPPY.json'"
   ]
  },
  {
   "cell_type": "code",
   "execution_count": 321,
   "metadata": {},
   "outputs": [],
   "source": [
    "water_json = pd.read_json(water_db_json_file,\n",
    "   convert_dates=True, lines=True)"
   ]
  },
  {
   "cell_type": "code",
   "execution_count": 322,
   "metadata": {},
   "outputs": [
    {
     "data": {
      "text/html": [
       "<div>\n",
       "<style scoped>\n",
       "    .dataframe tbody tr th:only-of-type {\n",
       "        vertical-align: middle;\n",
       "    }\n",
       "\n",
       "    .dataframe tbody tr th {\n",
       "        vertical-align: top;\n",
       "    }\n",
       "\n",
       "    .dataframe thead th {\n",
       "        text-align: right;\n",
       "    }\n",
       "</style>\n",
       "<table border=\"1\" class=\"dataframe\">\n",
       "  <thead>\n",
       "    <tr style=\"text-align: right;\">\n",
       "      <th></th>\n",
       "      <th>_id</th>\n",
       "      <th>debit</th>\n",
       "      <th>cumul</th>\n",
       "      <th>date</th>\n",
       "    </tr>\n",
       "  </thead>\n",
       "  <tbody>\n",
       "    <tr>\n",
       "      <th>0</th>\n",
       "      <td>{'$oid': '61543c5dfcfbb44e6a99bbf2'}</td>\n",
       "      <td>0.0</td>\n",
       "      <td>3.8</td>\n",
       "      <td>2021-09-29 11:13:49</td>\n",
       "    </tr>\n",
       "    <tr>\n",
       "      <th>1</th>\n",
       "      <td>{'$oid': '61543c6cfcfbb44e6a99bbf3'}</td>\n",
       "      <td>0.0</td>\n",
       "      <td>3.8</td>\n",
       "      <td>2021-09-29 11:14:04</td>\n",
       "    </tr>\n",
       "    <tr>\n",
       "      <th>2</th>\n",
       "      <td>{'$oid': '61543c7cfcfbb44e6a99bbf4'}</td>\n",
       "      <td>0.0</td>\n",
       "      <td>3.8</td>\n",
       "      <td>2021-09-29 11:14:20</td>\n",
       "    </tr>\n",
       "    <tr>\n",
       "      <th>3</th>\n",
       "      <td>{'$oid': '61543c99e6e0e637b27d8a03'}</td>\n",
       "      <td>0.0</td>\n",
       "      <td>3.8</td>\n",
       "      <td>2021-09-29 11:14:49</td>\n",
       "    </tr>\n",
       "    <tr>\n",
       "      <th>4</th>\n",
       "      <td>{'$oid': '61543ca8e6e0e637b27d8a04'}</td>\n",
       "      <td>0.0</td>\n",
       "      <td>3.8</td>\n",
       "      <td>2021-09-29 11:15:04</td>\n",
       "    </tr>\n",
       "  </tbody>\n",
       "</table>\n",
       "</div>"
      ],
      "text/plain": [
       "                                    _id  debit  cumul                date\n",
       "0  {'$oid': '61543c5dfcfbb44e6a99bbf2'}    0.0    3.8 2021-09-29 11:13:49\n",
       "1  {'$oid': '61543c6cfcfbb44e6a99bbf3'}    0.0    3.8 2021-09-29 11:14:04\n",
       "2  {'$oid': '61543c7cfcfbb44e6a99bbf4'}    0.0    3.8 2021-09-29 11:14:20\n",
       "3  {'$oid': '61543c99e6e0e637b27d8a03'}    0.0    3.8 2021-09-29 11:14:49\n",
       "4  {'$oid': '61543ca8e6e0e637b27d8a04'}    0.0    3.8 2021-09-29 11:15:04"
      ]
     },
     "execution_count": 322,
     "metadata": {},
     "output_type": "execute_result"
    }
   ],
   "source": [
    "water_json.head()"
   ]
  },
  {
   "cell_type": "code",
   "execution_count": 323,
   "metadata": {},
   "outputs": [
    {
     "data": {
      "text/html": [
       "<div>\n",
       "<style scoped>\n",
       "    .dataframe tbody tr th:only-of-type {\n",
       "        vertical-align: middle;\n",
       "    }\n",
       "\n",
       "    .dataframe tbody tr th {\n",
       "        vertical-align: top;\n",
       "    }\n",
       "\n",
       "    .dataframe thead th {\n",
       "        text-align: right;\n",
       "    }\n",
       "</style>\n",
       "<table border=\"1\" class=\"dataframe\">\n",
       "  <thead>\n",
       "    <tr style=\"text-align: right;\">\n",
       "      <th></th>\n",
       "      <th>_id</th>\n",
       "      <th>debit</th>\n",
       "      <th>cumul</th>\n",
       "      <th>date</th>\n",
       "    </tr>\n",
       "  </thead>\n",
       "  <tbody>\n",
       "    <tr>\n",
       "      <th>0</th>\n",
       "      <td>{'$oid': '61543c5dfcfbb44e6a99bbf2'}</td>\n",
       "      <td>0.0</td>\n",
       "      <td>3.8</td>\n",
       "      <td>2021-09-29 11:13:49</td>\n",
       "    </tr>\n",
       "    <tr>\n",
       "      <th>1</th>\n",
       "      <td>{'$oid': '61543c6cfcfbb44e6a99bbf3'}</td>\n",
       "      <td>0.0</td>\n",
       "      <td>3.8</td>\n",
       "      <td>2021-09-29 11:14:04</td>\n",
       "    </tr>\n",
       "    <tr>\n",
       "      <th>2</th>\n",
       "      <td>{'$oid': '61543c7cfcfbb44e6a99bbf4'}</td>\n",
       "      <td>0.0</td>\n",
       "      <td>3.8</td>\n",
       "      <td>2021-09-29 11:14:20</td>\n",
       "    </tr>\n",
       "    <tr>\n",
       "      <th>3</th>\n",
       "      <td>{'$oid': '61543c99e6e0e637b27d8a03'}</td>\n",
       "      <td>0.0</td>\n",
       "      <td>3.8</td>\n",
       "      <td>2021-09-29 11:14:49</td>\n",
       "    </tr>\n",
       "    <tr>\n",
       "      <th>4</th>\n",
       "      <td>{'$oid': '61543ca8e6e0e637b27d8a04'}</td>\n",
       "      <td>0.0</td>\n",
       "      <td>3.8</td>\n",
       "      <td>2021-09-29 11:15:04</td>\n",
       "    </tr>\n",
       "    <tr>\n",
       "      <th>...</th>\n",
       "      <td>...</td>\n",
       "      <td>...</td>\n",
       "      <td>...</td>\n",
       "      <td>...</td>\n",
       "    </tr>\n",
       "    <tr>\n",
       "      <th>794279</th>\n",
       "      <td>{'$oid': '629308d55041e6ca60747361'}</td>\n",
       "      <td>0.0</td>\n",
       "      <td>17153.7</td>\n",
       "      <td>2022-05-29 06:47:01</td>\n",
       "    </tr>\n",
       "    <tr>\n",
       "      <th>794280</th>\n",
       "      <td>{'$oid': '629308e45041e6ca60747362'}</td>\n",
       "      <td>0.0</td>\n",
       "      <td>17153.7</td>\n",
       "      <td>2022-05-29 06:47:16</td>\n",
       "    </tr>\n",
       "    <tr>\n",
       "      <th>794281</th>\n",
       "      <td>{'$oid': '629308f35041e6ca60747363'}</td>\n",
       "      <td>0.0</td>\n",
       "      <td>17153.7</td>\n",
       "      <td>2022-05-29 06:47:31</td>\n",
       "    </tr>\n",
       "    <tr>\n",
       "      <th>794282</th>\n",
       "      <td>{'$oid': '629309035041e6ca60747364'}</td>\n",
       "      <td>0.0</td>\n",
       "      <td>17153.7</td>\n",
       "      <td>2022-05-29 06:47:47</td>\n",
       "    </tr>\n",
       "    <tr>\n",
       "      <th>794283</th>\n",
       "      <td>{'$oid': '629309125041e6ca60747365'}</td>\n",
       "      <td>0.0</td>\n",
       "      <td>17153.7</td>\n",
       "      <td>2022-05-29 06:48:02</td>\n",
       "    </tr>\n",
       "  </tbody>\n",
       "</table>\n",
       "<p>794284 rows × 4 columns</p>\n",
       "</div>"
      ],
      "text/plain": [
       "                                         _id  debit    cumul  \\\n",
       "0       {'$oid': '61543c5dfcfbb44e6a99bbf2'}    0.0      3.8   \n",
       "1       {'$oid': '61543c6cfcfbb44e6a99bbf3'}    0.0      3.8   \n",
       "2       {'$oid': '61543c7cfcfbb44e6a99bbf4'}    0.0      3.8   \n",
       "3       {'$oid': '61543c99e6e0e637b27d8a03'}    0.0      3.8   \n",
       "4       {'$oid': '61543ca8e6e0e637b27d8a04'}    0.0      3.8   \n",
       "...                                      ...    ...      ...   \n",
       "794279  {'$oid': '629308d55041e6ca60747361'}    0.0  17153.7   \n",
       "794280  {'$oid': '629308e45041e6ca60747362'}    0.0  17153.7   \n",
       "794281  {'$oid': '629308f35041e6ca60747363'}    0.0  17153.7   \n",
       "794282  {'$oid': '629309035041e6ca60747364'}    0.0  17153.7   \n",
       "794283  {'$oid': '629309125041e6ca60747365'}    0.0  17153.7   \n",
       "\n",
       "                      date  \n",
       "0      2021-09-29 11:13:49  \n",
       "1      2021-09-29 11:14:04  \n",
       "2      2021-09-29 11:14:20  \n",
       "3      2021-09-29 11:14:49  \n",
       "4      2021-09-29 11:15:04  \n",
       "...                    ...  \n",
       "794279 2022-05-29 06:47:01  \n",
       "794280 2022-05-29 06:47:16  \n",
       "794281 2022-05-29 06:47:31  \n",
       "794282 2022-05-29 06:47:47  \n",
       "794283 2022-05-29 06:48:02  \n",
       "\n",
       "[794284 rows x 4 columns]"
      ]
     },
     "execution_count": 323,
     "metadata": {},
     "output_type": "execute_result"
    }
   ],
   "source": [
    "#show dataframe\n",
    "water_json"
   ]
  },
  {
   "cell_type": "code",
   "execution_count": 324,
   "metadata": {},
   "outputs": [
    {
     "data": {
      "text/html": [
       "<div>\n",
       "<style scoped>\n",
       "    .dataframe tbody tr th:only-of-type {\n",
       "        vertical-align: middle;\n",
       "    }\n",
       "\n",
       "    .dataframe tbody tr th {\n",
       "        vertical-align: top;\n",
       "    }\n",
       "\n",
       "    .dataframe thead th {\n",
       "        text-align: right;\n",
       "    }\n",
       "</style>\n",
       "<table border=\"1\" class=\"dataframe\">\n",
       "  <thead>\n",
       "    <tr style=\"text-align: right;\">\n",
       "      <th></th>\n",
       "      <th>_id</th>\n",
       "      <th>debit</th>\n",
       "      <th>cumul</th>\n",
       "      <th>date</th>\n",
       "    </tr>\n",
       "  </thead>\n",
       "  <tbody>\n",
       "    <tr>\n",
       "      <th>0</th>\n",
       "      <td>{'$oid': '61543c5dfcfbb44e6a99bbf2'}</td>\n",
       "      <td>0.0</td>\n",
       "      <td>3.8</td>\n",
       "      <td>2021-09-29 11:13:49</td>\n",
       "    </tr>\n",
       "    <tr>\n",
       "      <th>1</th>\n",
       "      <td>{'$oid': '61543c6cfcfbb44e6a99bbf3'}</td>\n",
       "      <td>0.0</td>\n",
       "      <td>3.8</td>\n",
       "      <td>2021-09-29 11:14:04</td>\n",
       "    </tr>\n",
       "    <tr>\n",
       "      <th>2</th>\n",
       "      <td>{'$oid': '61543c7cfcfbb44e6a99bbf4'}</td>\n",
       "      <td>0.0</td>\n",
       "      <td>3.8</td>\n",
       "      <td>2021-09-29 11:14:20</td>\n",
       "    </tr>\n",
       "    <tr>\n",
       "      <th>3</th>\n",
       "      <td>{'$oid': '61543c99e6e0e637b27d8a03'}</td>\n",
       "      <td>0.0</td>\n",
       "      <td>3.8</td>\n",
       "      <td>2021-09-29 11:14:49</td>\n",
       "    </tr>\n",
       "    <tr>\n",
       "      <th>4</th>\n",
       "      <td>{'$oid': '61543ca8e6e0e637b27d8a04'}</td>\n",
       "      <td>0.0</td>\n",
       "      <td>3.8</td>\n",
       "      <td>2021-09-29 11:15:04</td>\n",
       "    </tr>\n",
       "  </tbody>\n",
       "</table>\n",
       "</div>"
      ],
      "text/plain": [
       "                                    _id  debit  cumul                date\n",
       "0  {'$oid': '61543c5dfcfbb44e6a99bbf2'}    0.0    3.8 2021-09-29 11:13:49\n",
       "1  {'$oid': '61543c6cfcfbb44e6a99bbf3'}    0.0    3.8 2021-09-29 11:14:04\n",
       "2  {'$oid': '61543c7cfcfbb44e6a99bbf4'}    0.0    3.8 2021-09-29 11:14:20\n",
       "3  {'$oid': '61543c99e6e0e637b27d8a03'}    0.0    3.8 2021-09-29 11:14:49\n",
       "4  {'$oid': '61543ca8e6e0e637b27d8a04'}    0.0    3.8 2021-09-29 11:15:04"
      ]
     },
     "execution_count": 324,
     "metadata": {},
     "output_type": "execute_result"
    }
   ],
   "source": [
    "water_json.head(5)"
   ]
  },
  {
   "cell_type": "code",
   "execution_count": 325,
   "metadata": {},
   "outputs": [
    {
     "data": {
      "text/plain": [
       "Index(['_id', 'debit', 'cumul', 'date'], dtype='object')"
      ]
     },
     "execution_count": 325,
     "metadata": {},
     "output_type": "execute_result"
    }
   ],
   "source": [
    "#creating data subset\n",
    "water_json.columns"
   ]
  },
  {
   "cell_type": "code",
   "execution_count": 326,
   "metadata": {},
   "outputs": [
    {
     "data": {
      "text/html": [
       "<div>\n",
       "<style scoped>\n",
       "    .dataframe tbody tr th:only-of-type {\n",
       "        vertical-align: middle;\n",
       "    }\n",
       "\n",
       "    .dataframe tbody tr th {\n",
       "        vertical-align: top;\n",
       "    }\n",
       "\n",
       "    .dataframe thead th {\n",
       "        text-align: right;\n",
       "    }\n",
       "</style>\n",
       "<table border=\"1\" class=\"dataframe\">\n",
       "  <thead>\n",
       "    <tr style=\"text-align: right;\">\n",
       "      <th></th>\n",
       "      <th>_id</th>\n",
       "      <th>debit</th>\n",
       "      <th>cumul</th>\n",
       "      <th>date</th>\n",
       "    </tr>\n",
       "  </thead>\n",
       "  <tbody>\n",
       "    <tr>\n",
       "      <th>0</th>\n",
       "      <td>{'$oid': '61543c5dfcfbb44e6a99bbf2'}</td>\n",
       "      <td>0.0</td>\n",
       "      <td>3.8</td>\n",
       "      <td>2021-09-29 11:13:49</td>\n",
       "    </tr>\n",
       "    <tr>\n",
       "      <th>1</th>\n",
       "      <td>{'$oid': '61543c6cfcfbb44e6a99bbf3'}</td>\n",
       "      <td>0.0</td>\n",
       "      <td>3.8</td>\n",
       "      <td>2021-09-29 11:14:04</td>\n",
       "    </tr>\n",
       "    <tr>\n",
       "      <th>2</th>\n",
       "      <td>{'$oid': '61543c7cfcfbb44e6a99bbf4'}</td>\n",
       "      <td>0.0</td>\n",
       "      <td>3.8</td>\n",
       "      <td>2021-09-29 11:14:20</td>\n",
       "    </tr>\n",
       "    <tr>\n",
       "      <th>3</th>\n",
       "      <td>{'$oid': '61543c99e6e0e637b27d8a03'}</td>\n",
       "      <td>0.0</td>\n",
       "      <td>3.8</td>\n",
       "      <td>2021-09-29 11:14:49</td>\n",
       "    </tr>\n",
       "    <tr>\n",
       "      <th>4</th>\n",
       "      <td>{'$oid': '61543ca8e6e0e637b27d8a04'}</td>\n",
       "      <td>0.0</td>\n",
       "      <td>3.8</td>\n",
       "      <td>2021-09-29 11:15:04</td>\n",
       "    </tr>\n",
       "    <tr>\n",
       "      <th>...</th>\n",
       "      <td>...</td>\n",
       "      <td>...</td>\n",
       "      <td>...</td>\n",
       "      <td>...</td>\n",
       "    </tr>\n",
       "    <tr>\n",
       "      <th>794279</th>\n",
       "      <td>{'$oid': '629308d55041e6ca60747361'}</td>\n",
       "      <td>0.0</td>\n",
       "      <td>17153.7</td>\n",
       "      <td>2022-05-29 06:47:01</td>\n",
       "    </tr>\n",
       "    <tr>\n",
       "      <th>794280</th>\n",
       "      <td>{'$oid': '629308e45041e6ca60747362'}</td>\n",
       "      <td>0.0</td>\n",
       "      <td>17153.7</td>\n",
       "      <td>2022-05-29 06:47:16</td>\n",
       "    </tr>\n",
       "    <tr>\n",
       "      <th>794281</th>\n",
       "      <td>{'$oid': '629308f35041e6ca60747363'}</td>\n",
       "      <td>0.0</td>\n",
       "      <td>17153.7</td>\n",
       "      <td>2022-05-29 06:47:31</td>\n",
       "    </tr>\n",
       "    <tr>\n",
       "      <th>794282</th>\n",
       "      <td>{'$oid': '629309035041e6ca60747364'}</td>\n",
       "      <td>0.0</td>\n",
       "      <td>17153.7</td>\n",
       "      <td>2022-05-29 06:47:47</td>\n",
       "    </tr>\n",
       "    <tr>\n",
       "      <th>794283</th>\n",
       "      <td>{'$oid': '629309125041e6ca60747365'}</td>\n",
       "      <td>0.0</td>\n",
       "      <td>17153.7</td>\n",
       "      <td>2022-05-29 06:48:02</td>\n",
       "    </tr>\n",
       "  </tbody>\n",
       "</table>\n",
       "<p>794284 rows × 4 columns</p>\n",
       "</div>"
      ],
      "text/plain": [
       "                                         _id  debit    cumul  \\\n",
       "0       {'$oid': '61543c5dfcfbb44e6a99bbf2'}    0.0      3.8   \n",
       "1       {'$oid': '61543c6cfcfbb44e6a99bbf3'}    0.0      3.8   \n",
       "2       {'$oid': '61543c7cfcfbb44e6a99bbf4'}    0.0      3.8   \n",
       "3       {'$oid': '61543c99e6e0e637b27d8a03'}    0.0      3.8   \n",
       "4       {'$oid': '61543ca8e6e0e637b27d8a04'}    0.0      3.8   \n",
       "...                                      ...    ...      ...   \n",
       "794279  {'$oid': '629308d55041e6ca60747361'}    0.0  17153.7   \n",
       "794280  {'$oid': '629308e45041e6ca60747362'}    0.0  17153.7   \n",
       "794281  {'$oid': '629308f35041e6ca60747363'}    0.0  17153.7   \n",
       "794282  {'$oid': '629309035041e6ca60747364'}    0.0  17153.7   \n",
       "794283  {'$oid': '629309125041e6ca60747365'}    0.0  17153.7   \n",
       "\n",
       "                      date  \n",
       "0      2021-09-29 11:13:49  \n",
       "1      2021-09-29 11:14:04  \n",
       "2      2021-09-29 11:14:20  \n",
       "3      2021-09-29 11:14:49  \n",
       "4      2021-09-29 11:15:04  \n",
       "...                    ...  \n",
       "794279 2022-05-29 06:47:01  \n",
       "794280 2022-05-29 06:47:16  \n",
       "794281 2022-05-29 06:47:31  \n",
       "794282 2022-05-29 06:47:47  \n",
       "794283 2022-05-29 06:48:02  \n",
       "\n",
       "[794284 rows x 4 columns]"
      ]
     },
     "execution_count": 326,
     "metadata": {},
     "output_type": "execute_result"
    }
   ],
   "source": [
    "water_json_subset = water_json[['_id', 'debit', 'cumul', 'date']]\n",
    "water_json_subset"
   ]
  },
  {
   "cell_type": "code",
   "execution_count": 327,
   "metadata": {},
   "outputs": [
    {
     "data": {
      "text/plain": [
       "array([[<AxesSubplot:title={'center':'debit'}>,\n",
       "        <AxesSubplot:title={'center':'cumul'}>],\n",
       "       [<AxesSubplot:title={'center':'date'}>, <AxesSubplot:>]],\n",
       "      dtype=object)"
      ]
     },
     "execution_count": 327,
     "metadata": {},
     "output_type": "execute_result"
    },
    {
     "data": {
      "image/png": "[encoded data removed]",
      "text/plain": [
       "<Figure size 1440x720 with 4 Axes>"
      ]
     },
     "metadata": {
      "needs_background": "light"
     },
     "output_type": "display_data"
    }
   ],
   "source": [
    "#viewing data histograms\n",
    "water_json_subset.hist(bins=60, figsize=(20,10))"
   ]
  },
  {
   "cell_type": "markdown",
   "metadata": {},
   "source": [
    "# ON & OFF Saturation"
   ]
  },
  {
   "cell_type": "code",
   "execution_count": 328,
   "metadata": {},
   "outputs": [
    {
     "data": {
      "text/html": [
       "<div>\n",
       "<style scoped>\n",
       "    .dataframe tbody tr th:only-of-type {\n",
       "        vertical-align: middle;\n",
       "    }\n",
       "\n",
       "    .dataframe tbody tr th {\n",
       "        vertical-align: top;\n",
       "    }\n",
       "\n",
       "    .dataframe thead th {\n",
       "        text-align: right;\n",
       "    }\n",
       "</style>\n",
       "<table border=\"1\" class=\"dataframe\">\n",
       "  <thead>\n",
       "    <tr style=\"text-align: right;\">\n",
       "      <th></th>\n",
       "      <th>_id</th>\n",
       "      <th>debit</th>\n",
       "      <th>cumul</th>\n",
       "      <th>date</th>\n",
       "    </tr>\n",
       "  </thead>\n",
       "  <tbody>\n",
       "    <tr>\n",
       "      <th>112</th>\n",
       "      <td>{'$oid': '6154434722486052ba7def0d'}</td>\n",
       "      <td>1.2</td>\n",
       "      <td>5.0</td>\n",
       "      <td>2021-09-29 11:43:19</td>\n",
       "    </tr>\n",
       "    <tr>\n",
       "      <th>113</th>\n",
       "      <td>{'$oid': '6154435722486052ba7def0e'}</td>\n",
       "      <td>1.2</td>\n",
       "      <td>6.2</td>\n",
       "      <td>2021-09-29 11:43:35</td>\n",
       "    </tr>\n",
       "    <tr>\n",
       "      <th>114</th>\n",
       "      <td>{'$oid': '6154436622486052ba7def0f'}</td>\n",
       "      <td>0.8</td>\n",
       "      <td>7.0</td>\n",
       "      <td>2021-09-29 11:43:50</td>\n",
       "    </tr>\n",
       "    <tr>\n",
       "      <th>115</th>\n",
       "      <td>{'$oid': '6154437522486052ba7def10'}</td>\n",
       "      <td>1.1</td>\n",
       "      <td>8.1</td>\n",
       "      <td>2021-09-29 11:44:05</td>\n",
       "    </tr>\n",
       "    <tr>\n",
       "      <th>116</th>\n",
       "      <td>{'$oid': '6154438422486052ba7def11'}</td>\n",
       "      <td>1.1</td>\n",
       "      <td>9.2</td>\n",
       "      <td>2021-09-29 11:44:20</td>\n",
       "    </tr>\n",
       "    <tr>\n",
       "      <th>...</th>\n",
       "      <td>...</td>\n",
       "      <td>...</td>\n",
       "      <td>...</td>\n",
       "      <td>...</td>\n",
       "    </tr>\n",
       "    <tr>\n",
       "      <th>789867</th>\n",
       "      <td>{'$oid': '629203e95041e6ca60746225'}</td>\n",
       "      <td>0.1</td>\n",
       "      <td>17152.9</td>\n",
       "      <td>2022-05-28 12:13:45</td>\n",
       "    </tr>\n",
       "    <tr>\n",
       "      <th>789870</th>\n",
       "      <td>{'$oid': '629204165041e6ca60746228'}</td>\n",
       "      <td>0.1</td>\n",
       "      <td>17153.0</td>\n",
       "      <td>2022-05-28 12:14:30</td>\n",
       "    </tr>\n",
       "    <tr>\n",
       "      <th>790311</th>\n",
       "      <td>{'$oid': '62921e2a5041e6ca607463e1'}</td>\n",
       "      <td>0.2</td>\n",
       "      <td>17153.2</td>\n",
       "      <td>2022-05-28 14:05:46</td>\n",
       "    </tr>\n",
       "    <tr>\n",
       "      <th>790312</th>\n",
       "      <td>{'$oid': '62921e395041e6ca607463e2'}</td>\n",
       "      <td>0.4</td>\n",
       "      <td>17153.6</td>\n",
       "      <td>2022-05-28 14:06:01</td>\n",
       "    </tr>\n",
       "    <tr>\n",
       "      <th>790405</th>\n",
       "      <td>{'$oid': '629223b95041e6ca6074643f'}</td>\n",
       "      <td>0.1</td>\n",
       "      <td>17153.7</td>\n",
       "      <td>2022-05-28 14:29:29</td>\n",
       "    </tr>\n",
       "  </tbody>\n",
       "</table>\n",
       "<p>15869 rows × 4 columns</p>\n",
       "</div>"
      ],
      "text/plain": [
       "                                         _id  debit    cumul  \\\n",
       "112     {'$oid': '6154434722486052ba7def0d'}    1.2      5.0   \n",
       "113     {'$oid': '6154435722486052ba7def0e'}    1.2      6.2   \n",
       "114     {'$oid': '6154436622486052ba7def0f'}    0.8      7.0   \n",
       "115     {'$oid': '6154437522486052ba7def10'}    1.1      8.1   \n",
       "116     {'$oid': '6154438422486052ba7def11'}    1.1      9.2   \n",
       "...                                      ...    ...      ...   \n",
       "789867  {'$oid': '629203e95041e6ca60746225'}    0.1  17152.9   \n",
       "789870  {'$oid': '629204165041e6ca60746228'}    0.1  17153.0   \n",
       "790311  {'$oid': '62921e2a5041e6ca607463e1'}    0.2  17153.2   \n",
       "790312  {'$oid': '62921e395041e6ca607463e2'}    0.4  17153.6   \n",
       "790405  {'$oid': '629223b95041e6ca6074643f'}    0.1  17153.7   \n",
       "\n",
       "                      date  \n",
       "112    2021-09-29 11:43:19  \n",
       "113    2021-09-29 11:43:35  \n",
       "114    2021-09-29 11:43:50  \n",
       "115    2021-09-29 11:44:05  \n",
       "116    2021-09-29 11:44:20  \n",
       "...                    ...  \n",
       "789867 2022-05-28 12:13:45  \n",
       "789870 2022-05-28 12:14:30  \n",
       "790311 2022-05-28 14:05:46  \n",
       "790312 2022-05-28 14:06:01  \n",
       "790405 2022-05-28 14:29:29  \n",
       "\n",
       "[15869 rows x 4 columns]"
      ]
     },
     "execution_count": 328,
     "metadata": {},
     "output_type": "execute_result"
    }
   ],
   "source": [
    "#where water is running in our dataframe\n",
    "water_on=water_json_subset[water_json_subset['debit']!=0]\n",
    "water_on"
   ]
  },
  {
   "cell_type": "code",
   "execution_count": 329,
   "metadata": {},
   "outputs": [
    {
     "data": {
      "text/plain": [
       "<AxesSubplot:xlabel='cumul', ylabel='debit'>"
      ]
     },
     "execution_count": 329,
     "metadata": {},
     "output_type": "execute_result"
    },
    {
     "data": {
      "image/png": "[encoded data removed]",
      "text/plain": [
       "<Figure size 1440x720 with 1 Axes>"
      ]
     },
     "metadata": {
      "needs_background": "light"
     },
     "output_type": "display_data"
    }
   ],
   "source": [
    "#visualizing cumul en fonction du débit non nul\n",
    "water_json_subset[['cumul','debit']].plot(kind='scatter', x='cumul', y='debit', figsize=(20,10))"
   ]
  },
  {
   "cell_type": "code",
   "execution_count": 330,
   "metadata": {},
   "outputs": [
    {
     "data": {
      "text/plain": [
       "_id      0\n",
       "debit    0\n",
       "cumul    0\n",
       "date     0\n",
       "dtype: int64"
      ]
     },
     "execution_count": 330,
     "metadata": {},
     "output_type": "execute_result"
    }
   ],
   "source": [
    "#checking for null variables and_or missing values in the DB\n",
    "water_json_subset.isna().sum()"
   ]
  },
  {
   "cell_type": "code",
   "execution_count": 331,
   "metadata": {},
   "outputs": [
    {
     "data": {
      "text/plain": [
       "_id              object\n",
       "debit           float64\n",
       "cumul           float64\n",
       "date     datetime64[ns]\n",
       "dtype: object"
      ]
     },
     "execution_count": 331,
     "metadata": {},
     "output_type": "execute_result"
    }
   ],
   "source": [
    "#find out the nature of the dataset's values\n",
    "water_json_subset.dtypes"
   ]
  },
  {
   "cell_type": "code",
   "execution_count": 332,
   "metadata": {},
   "outputs": [
    {
     "data": {
      "text/plain": [
       "<AxesSubplot:>"
      ]
     },
     "execution_count": 332,
     "metadata": {},
     "output_type": "execute_result"
    },
    {
     "data": {
      "image/png": "[encoded data removed]",
      "text/plain": [
       "<Figure size 1440x720 with 1 Axes>"
      ]
     },
     "metadata": {
      "needs_background": "light"
     },
     "output_type": "display_data"
    }
   ],
   "source": [
    "#checking the distribution of the different cumul values\n",
    "pd.DataFrame(water_json_subset['debit'].value_counts()).plot(kind='bar', figsize=(20,10))"
   ]
  },
  {
   "cell_type": "code",
   "execution_count": 333,
   "metadata": {},
   "outputs": [],
   "source": [
    "import matplotlib.pyplot as plt "
   ]
  },
  {
   "cell_type": "code",
   "execution_count": 334,
   "metadata": {},
   "outputs": [
    {
     "data": {
      "image/png": "[encoded data removed]",
      "text/plain": [
       "<Figure size 432x288 with 1 Axes>"
      ]
     },
     "metadata": {
      "needs_background": "light"
     },
     "output_type": "display_data"
    }
   ],
   "source": [
    "#visualize progression cumul en fct du temps (date)\n",
    "plt.plot(water_json_subset[\"cumul\"], water_json_subset[\"date\"]) \n",
    "plt.show()"
   ]
  },
  {
   "cell_type": "code",
   "execution_count": 335,
   "metadata": {},
   "outputs": [
    {
     "data": {
      "text/html": [
       "<div>\n",
       "<style scoped>\n",
       "    .dataframe tbody tr th:only-of-type {\n",
       "        vertical-align: middle;\n",
       "    }\n",
       "\n",
       "    .dataframe tbody tr th {\n",
       "        vertical-align: top;\n",
       "    }\n",
       "\n",
       "    .dataframe thead th {\n",
       "        text-align: right;\n",
       "    }\n",
       "</style>\n",
       "<table border=\"1\" class=\"dataframe\">\n",
       "  <thead>\n",
       "    <tr style=\"text-align: right;\">\n",
       "      <th></th>\n",
       "      <th>_id</th>\n",
       "      <th>debit</th>\n",
       "      <th>cumul</th>\n",
       "      <th>date</th>\n",
       "    </tr>\n",
       "  </thead>\n",
       "  <tbody>\n",
       "  </tbody>\n",
       "</table>\n",
       "</div>"
      ],
      "text/plain": [
       "Empty DataFrame\n",
       "Columns: [_id, debit, cumul, date]\n",
       "Index: []"
      ]
     },
     "execution_count": 335,
     "metadata": {},
     "output_type": "execute_result"
    }
   ],
   "source": [
    "#see data when comul = 0\n",
    "cumul_zero=water_json_subset[water_json_subset['cumul']==0]\n",
    "cumul_zero"
   ]
  },
  {
   "cell_type": "code",
   "execution_count": 336,
   "metadata": {},
   "outputs": [
    {
     "data": {
      "text/plain": [
       "<AxesSubplot:xlabel='date', ylabel='cumul'>"
      ]
     },
     "execution_count": 336,
     "metadata": {},
     "output_type": "execute_result"
    },
    {
     "data": {
      "image/png": "[encoded data removed]",
      "text/plain": [
       "<Figure size 1440x720 with 1 Axes>"
      ]
     },
     "metadata": {
      "needs_background": "light"
     },
     "output_type": "display_data"
    }
   ],
   "source": [
    "#Cumul en fct du temps \n",
    "water_json_subset[['cumul','date']].plot(kind='scatter', x='date', y='cumul', figsize=(20,10))"
   ]
  },
  {
   "cell_type": "markdown",
   "metadata": {},
   "source": [
    "# Cleaning Data"
   ]
  },
  {
   "cell_type": "markdown",
   "metadata": {},
   "source": [
    "1. Dealing with CUMUL Outliers"
   ]
  },
  {
   "cell_type": "markdown",
   "metadata": {},
   "source": [
    "1.1 Looking for the outlier's exact data"
   ]
  },
  {
   "cell_type": "code",
   "execution_count": 337,
   "metadata": {},
   "outputs": [
    {
     "data": {
      "text/html": [
       "<div>\n",
       "<style scoped>\n",
       "    .dataframe tbody tr th:only-of-type {\n",
       "        vertical-align: middle;\n",
       "    }\n",
       "\n",
       "    .dataframe tbody tr th {\n",
       "        vertical-align: top;\n",
       "    }\n",
       "\n",
       "    .dataframe thead th {\n",
       "        text-align: right;\n",
       "    }\n",
       "</style>\n",
       "<table border=\"1\" class=\"dataframe\">\n",
       "  <thead>\n",
       "    <tr style=\"text-align: right;\">\n",
       "      <th></th>\n",
       "      <th>_id</th>\n",
       "      <th>debit</th>\n",
       "      <th>cumul</th>\n",
       "      <th>date</th>\n",
       "    </tr>\n",
       "  </thead>\n",
       "  <tbody>\n",
       "  </tbody>\n",
       "</table>\n",
       "</div>"
      ],
      "text/plain": [
       "Empty DataFrame\n",
       "Columns: [_id, debit, cumul, date]\n",
       "Index: []"
      ]
     },
     "execution_count": 337,
     "metadata": {},
     "output_type": "execute_result"
    }
   ],
   "source": [
    "#Looking for how many outliers we have \n",
    "from numpy import NaN\n",
    "\n",
    "\n",
    "outliers=water_json_subset[(water_json_subset['cumul']==0)]\n",
    "outliers"
   ]
  },
  {
   "cell_type": "code",
   "execution_count": 338,
   "metadata": {},
   "outputs": [],
   "source": [
    "#viewing months & years\n",
    "month_water=water_json_subset['month'] = pd.DatetimeIndex(water_json_subset['date']).month \n",
    "year_water=water_json_subset['year'] = pd.DatetimeIndex(water_json_subset['date']).year\n",
    "day_water=water_json_subset['day'] = pd.DatetimeIndex(water_json_subset['date']).day"
   ]
  },
  {
   "cell_type": "code",
   "execution_count": 339,
   "metadata": {},
   "outputs": [
    {
     "data": {
      "text/html": [
       "<div>\n",
       "<style scoped>\n",
       "    .dataframe tbody tr th:only-of-type {\n",
       "        vertical-align: middle;\n",
       "    }\n",
       "\n",
       "    .dataframe tbody tr th {\n",
       "        vertical-align: top;\n",
       "    }\n",
       "\n",
       "    .dataframe thead th {\n",
       "        text-align: right;\n",
       "    }\n",
       "</style>\n",
       "<table border=\"1\" class=\"dataframe\">\n",
       "  <thead>\n",
       "    <tr style=\"text-align: right;\">\n",
       "      <th></th>\n",
       "      <th>_id</th>\n",
       "      <th>debit</th>\n",
       "      <th>cumul</th>\n",
       "      <th>date</th>\n",
       "      <th>month</th>\n",
       "      <th>year</th>\n",
       "      <th>day</th>\n",
       "    </tr>\n",
       "  </thead>\n",
       "  <tbody>\n",
       "    <tr>\n",
       "      <th>0</th>\n",
       "      <td>{'$oid': '61543c5dfcfbb44e6a99bbf2'}</td>\n",
       "      <td>0.0</td>\n",
       "      <td>3.8</td>\n",
       "      <td>2021-09-29 11:13:49</td>\n",
       "      <td>9</td>\n",
       "      <td>2021</td>\n",
       "      <td>29</td>\n",
       "    </tr>\n",
       "    <tr>\n",
       "      <th>1</th>\n",
       "      <td>{'$oid': '61543c6cfcfbb44e6a99bbf3'}</td>\n",
       "      <td>0.0</td>\n",
       "      <td>3.8</td>\n",
       "      <td>2021-09-29 11:14:04</td>\n",
       "      <td>9</td>\n",
       "      <td>2021</td>\n",
       "      <td>29</td>\n",
       "    </tr>\n",
       "    <tr>\n",
       "      <th>2</th>\n",
       "      <td>{'$oid': '61543c7cfcfbb44e6a99bbf4'}</td>\n",
       "      <td>0.0</td>\n",
       "      <td>3.8</td>\n",
       "      <td>2021-09-29 11:14:20</td>\n",
       "      <td>9</td>\n",
       "      <td>2021</td>\n",
       "      <td>29</td>\n",
       "    </tr>\n",
       "    <tr>\n",
       "      <th>3</th>\n",
       "      <td>{'$oid': '61543c99e6e0e637b27d8a03'}</td>\n",
       "      <td>0.0</td>\n",
       "      <td>3.8</td>\n",
       "      <td>2021-09-29 11:14:49</td>\n",
       "      <td>9</td>\n",
       "      <td>2021</td>\n",
       "      <td>29</td>\n",
       "    </tr>\n",
       "    <tr>\n",
       "      <th>4</th>\n",
       "      <td>{'$oid': '61543ca8e6e0e637b27d8a04'}</td>\n",
       "      <td>0.0</td>\n",
       "      <td>3.8</td>\n",
       "      <td>2021-09-29 11:15:04</td>\n",
       "      <td>9</td>\n",
       "      <td>2021</td>\n",
       "      <td>29</td>\n",
       "    </tr>\n",
       "    <tr>\n",
       "      <th>...</th>\n",
       "      <td>...</td>\n",
       "      <td>...</td>\n",
       "      <td>...</td>\n",
       "      <td>...</td>\n",
       "      <td>...</td>\n",
       "      <td>...</td>\n",
       "      <td>...</td>\n",
       "    </tr>\n",
       "    <tr>\n",
       "      <th>794279</th>\n",
       "      <td>{'$oid': '629308d55041e6ca60747361'}</td>\n",
       "      <td>0.0</td>\n",
       "      <td>17153.7</td>\n",
       "      <td>2022-05-29 06:47:01</td>\n",
       "      <td>5</td>\n",
       "      <td>2022</td>\n",
       "      <td>29</td>\n",
       "    </tr>\n",
       "    <tr>\n",
       "      <th>794280</th>\n",
       "      <td>{'$oid': '629308e45041e6ca60747362'}</td>\n",
       "      <td>0.0</td>\n",
       "      <td>17153.7</td>\n",
       "      <td>2022-05-29 06:47:16</td>\n",
       "      <td>5</td>\n",
       "      <td>2022</td>\n",
       "      <td>29</td>\n",
       "    </tr>\n",
       "    <tr>\n",
       "      <th>794281</th>\n",
       "      <td>{'$oid': '629308f35041e6ca60747363'}</td>\n",
       "      <td>0.0</td>\n",
       "      <td>17153.7</td>\n",
       "      <td>2022-05-29 06:47:31</td>\n",
       "      <td>5</td>\n",
       "      <td>2022</td>\n",
       "      <td>29</td>\n",
       "    </tr>\n",
       "    <tr>\n",
       "      <th>794282</th>\n",
       "      <td>{'$oid': '629309035041e6ca60747364'}</td>\n",
       "      <td>0.0</td>\n",
       "      <td>17153.7</td>\n",
       "      <td>2022-05-29 06:47:47</td>\n",
       "      <td>5</td>\n",
       "      <td>2022</td>\n",
       "      <td>29</td>\n",
       "    </tr>\n",
       "    <tr>\n",
       "      <th>794283</th>\n",
       "      <td>{'$oid': '629309125041e6ca60747365'}</td>\n",
       "      <td>0.0</td>\n",
       "      <td>17153.7</td>\n",
       "      <td>2022-05-29 06:48:02</td>\n",
       "      <td>5</td>\n",
       "      <td>2022</td>\n",
       "      <td>29</td>\n",
       "    </tr>\n",
       "  </tbody>\n",
       "</table>\n",
       "<p>794284 rows × 7 columns</p>\n",
       "</div>"
      ],
      "text/plain": [
       "                                         _id  debit    cumul  \\\n",
       "0       {'$oid': '61543c5dfcfbb44e6a99bbf2'}    0.0      3.8   \n",
       "1       {'$oid': '61543c6cfcfbb44e6a99bbf3'}    0.0      3.8   \n",
       "2       {'$oid': '61543c7cfcfbb44e6a99bbf4'}    0.0      3.8   \n",
       "3       {'$oid': '61543c99e6e0e637b27d8a03'}    0.0      3.8   \n",
       "4       {'$oid': '61543ca8e6e0e637b27d8a04'}    0.0      3.8   \n",
       "...                                      ...    ...      ...   \n",
       "794279  {'$oid': '629308d55041e6ca60747361'}    0.0  17153.7   \n",
       "794280  {'$oid': '629308e45041e6ca60747362'}    0.0  17153.7   \n",
       "794281  {'$oid': '629308f35041e6ca60747363'}    0.0  17153.7   \n",
       "794282  {'$oid': '629309035041e6ca60747364'}    0.0  17153.7   \n",
       "794283  {'$oid': '629309125041e6ca60747365'}    0.0  17153.7   \n",
       "\n",
       "                      date  month  year  day  \n",
       "0      2021-09-29 11:13:49      9  2021   29  \n",
       "1      2021-09-29 11:14:04      9  2021   29  \n",
       "2      2021-09-29 11:14:20      9  2021   29  \n",
       "3      2021-09-29 11:14:49      9  2021   29  \n",
       "4      2021-09-29 11:15:04      9  2021   29  \n",
       "...                    ...    ...   ...  ...  \n",
       "794279 2022-05-29 06:47:01      5  2022   29  \n",
       "794280 2022-05-29 06:47:16      5  2022   29  \n",
       "794281 2022-05-29 06:47:31      5  2022   29  \n",
       "794282 2022-05-29 06:47:47      5  2022   29  \n",
       "794283 2022-05-29 06:48:02      5  2022   29  \n",
       "\n",
       "[794284 rows x 7 columns]"
      ]
     },
     "execution_count": 339,
     "metadata": {},
     "output_type": "execute_result"
    }
   ],
   "source": [
    "water_json_subset"
   ]
  },
  {
   "cell_type": "code",
   "execution_count": 340,
   "metadata": {},
   "outputs": [
    {
     "data": {
      "text/html": [
       "<div>\n",
       "<style scoped>\n",
       "    .dataframe tbody tr th:only-of-type {\n",
       "        vertical-align: middle;\n",
       "    }\n",
       "\n",
       "    .dataframe tbody tr th {\n",
       "        vertical-align: top;\n",
       "    }\n",
       "\n",
       "    .dataframe thead th {\n",
       "        text-align: right;\n",
       "    }\n",
       "</style>\n",
       "<table border=\"1\" class=\"dataframe\">\n",
       "  <thead>\n",
       "    <tr style=\"text-align: right;\">\n",
       "      <th></th>\n",
       "      <th>_id</th>\n",
       "      <th>debit</th>\n",
       "      <th>cumul</th>\n",
       "      <th>date</th>\n",
       "      <th>month</th>\n",
       "      <th>year</th>\n",
       "      <th>day</th>\n",
       "    </tr>\n",
       "  </thead>\n",
       "  <tbody>\n",
       "    <tr>\n",
       "      <th>0</th>\n",
       "      <td>NaN</td>\n",
       "      <td>NaN</td>\n",
       "      <td>NaN</td>\n",
       "      <td>NaT</td>\n",
       "      <td>NaN</td>\n",
       "      <td>NaN</td>\n",
       "      <td>NaN</td>\n",
       "    </tr>\n",
       "    <tr>\n",
       "      <th>1</th>\n",
       "      <td>NaN</td>\n",
       "      <td>NaN</td>\n",
       "      <td>NaN</td>\n",
       "      <td>NaT</td>\n",
       "      <td>NaN</td>\n",
       "      <td>NaN</td>\n",
       "      <td>NaN</td>\n",
       "    </tr>\n",
       "    <tr>\n",
       "      <th>2</th>\n",
       "      <td>NaN</td>\n",
       "      <td>NaN</td>\n",
       "      <td>NaN</td>\n",
       "      <td>NaT</td>\n",
       "      <td>NaN</td>\n",
       "      <td>NaN</td>\n",
       "      <td>NaN</td>\n",
       "    </tr>\n",
       "    <tr>\n",
       "      <th>3</th>\n",
       "      <td>NaN</td>\n",
       "      <td>NaN</td>\n",
       "      <td>NaN</td>\n",
       "      <td>NaT</td>\n",
       "      <td>NaN</td>\n",
       "      <td>NaN</td>\n",
       "      <td>NaN</td>\n",
       "    </tr>\n",
       "    <tr>\n",
       "      <th>4</th>\n",
       "      <td>NaN</td>\n",
       "      <td>NaN</td>\n",
       "      <td>NaN</td>\n",
       "      <td>NaT</td>\n",
       "      <td>NaN</td>\n",
       "      <td>NaN</td>\n",
       "      <td>NaN</td>\n",
       "    </tr>\n",
       "    <tr>\n",
       "      <th>...</th>\n",
       "      <td>...</td>\n",
       "      <td>...</td>\n",
       "      <td>...</td>\n",
       "      <td>...</td>\n",
       "      <td>...</td>\n",
       "      <td>...</td>\n",
       "      <td>...</td>\n",
       "    </tr>\n",
       "    <tr>\n",
       "      <th>794279</th>\n",
       "      <td>NaN</td>\n",
       "      <td>NaN</td>\n",
       "      <td>NaN</td>\n",
       "      <td>NaT</td>\n",
       "      <td>NaN</td>\n",
       "      <td>NaN</td>\n",
       "      <td>NaN</td>\n",
       "    </tr>\n",
       "    <tr>\n",
       "      <th>794280</th>\n",
       "      <td>NaN</td>\n",
       "      <td>NaN</td>\n",
       "      <td>NaN</td>\n",
       "      <td>NaT</td>\n",
       "      <td>NaN</td>\n",
       "      <td>NaN</td>\n",
       "      <td>NaN</td>\n",
       "    </tr>\n",
       "    <tr>\n",
       "      <th>794281</th>\n",
       "      <td>NaN</td>\n",
       "      <td>NaN</td>\n",
       "      <td>NaN</td>\n",
       "      <td>NaT</td>\n",
       "      <td>NaN</td>\n",
       "      <td>NaN</td>\n",
       "      <td>NaN</td>\n",
       "    </tr>\n",
       "    <tr>\n",
       "      <th>794282</th>\n",
       "      <td>NaN</td>\n",
       "      <td>NaN</td>\n",
       "      <td>NaN</td>\n",
       "      <td>NaT</td>\n",
       "      <td>NaN</td>\n",
       "      <td>NaN</td>\n",
       "      <td>NaN</td>\n",
       "    </tr>\n",
       "    <tr>\n",
       "      <th>794283</th>\n",
       "      <td>NaN</td>\n",
       "      <td>NaN</td>\n",
       "      <td>NaN</td>\n",
       "      <td>NaT</td>\n",
       "      <td>NaN</td>\n",
       "      <td>NaN</td>\n",
       "      <td>NaN</td>\n",
       "    </tr>\n",
       "  </tbody>\n",
       "</table>\n",
       "<p>794284 rows × 7 columns</p>\n",
       "</div>"
      ],
      "text/plain": [
       "        _id  debit  cumul date  month  year  day\n",
       "0       NaN    NaN    NaN  NaT    NaN   NaN  NaN\n",
       "1       NaN    NaN    NaN  NaT    NaN   NaN  NaN\n",
       "2       NaN    NaN    NaN  NaT    NaN   NaN  NaN\n",
       "3       NaN    NaN    NaN  NaT    NaN   NaN  NaN\n",
       "4       NaN    NaN    NaN  NaT    NaN   NaN  NaN\n",
       "...     ...    ...    ...  ...    ...   ...  ...\n",
       "794279  NaN    NaN    NaN  NaT    NaN   NaN  NaN\n",
       "794280  NaN    NaN    NaN  NaT    NaN   NaN  NaN\n",
       "794281  NaN    NaN    NaN  NaT    NaN   NaN  NaN\n",
       "794282  NaN    NaN    NaN  NaT    NaN   NaN  NaN\n",
       "794283  NaN    NaN    NaN  NaT    NaN   NaN  NaN\n",
       "\n",
       "[794284 rows x 7 columns]"
      ]
     },
     "execution_count": 340,
     "metadata": {},
     "output_type": "execute_result"
    }
   ],
   "source": [
    "#view cumul where month = 11 and year = 2021\n",
    "\n",
    "water_json_subset2 = water_json_subset[['_id', 'debit', 'cumul', 'date', 'month', 'year', 'day']]\n",
    "water_json_subset2\n",
    "\n",
    "#creating filters\n",
    "filter1 = water_json_subset2[\"month\"]==11 \n",
    "filter2 = water_json_subset2[\"year\"]==2021\n",
    "  \n",
    "#filtering data\n",
    "water_json_subset2.where(filter1 & filter2, inplace = True)\n",
    "\n",
    "water_json_subset2"
   ]
  },
  {
   "cell_type": "code",
   "execution_count": 341,
   "metadata": {},
   "outputs": [
    {
     "data": {
      "text/plain": [
       "<AxesSubplot:xlabel='cumul', ylabel='month'>"
      ]
     },
     "execution_count": 341,
     "metadata": {},
     "output_type": "execute_result"
    },
    {
     "data": {
      "image/png": "[encoded data removed]",
      "text/plain": [
       "<Figure size 1440x720 with 1 Axes>"
      ]
     },
     "metadata": {
      "needs_background": "light"
     },
     "output_type": "display_data"
    }
   ],
   "source": [
    "#visualize histogram where month = 11 & year = 2021\n",
    "water_json_subset2[['cumul','month']].plot(kind='scatter', x='cumul', y='month', figsize=(20,10))"
   ]
  },
  {
   "cell_type": "code",
   "execution_count": 342,
   "metadata": {},
   "outputs": [
    {
     "data": {
      "text/plain": [
       "<AxesSubplot:xlabel='cumul', ylabel='date'>"
      ]
     },
     "execution_count": 342,
     "metadata": {},
     "output_type": "execute_result"
    },
    {
     "data": {
      "image/png": "[encoded data removed]",
      "text/plain": [
       "<Figure size 1440x720 with 1 Axes>"
      ]
     },
     "metadata": {
      "needs_background": "light"
     },
     "output_type": "display_data"
    }
   ],
   "source": [
    "#looking for exact day where month = 11, year = 2021 & cumul outlier\n",
    "water_json_subset2[['cumul','date']].plot(kind='scatter', x='cumul', y='date', figsize=(20,10))"
   ]
  },
  {
   "cell_type": "code",
   "execution_count": 343,
   "metadata": {},
   "outputs": [
    {
     "data": {
      "text/plain": [
       "<AxesSubplot:xlabel='cumul', ylabel='day'>"
      ]
     },
     "execution_count": 343,
     "metadata": {},
     "output_type": "execute_result"
    },
    {
     "data": {
      "image/png": "[encoded data removed]",
      "text/plain": [
       "<Figure size 1440x720 with 1 Axes>"
      ]
     },
     "metadata": {
      "needs_background": "light"
     },
     "output_type": "display_data"
    }
   ],
   "source": [
    "#looking for exact day where cumul outlier during the 11/2021\n",
    "\n",
    "#filter3 = water_json_subset[\"day\"]==26\n",
    "\n",
    "filter3 = water_json_subset[\"day\"].isin([25, 28])\n",
    "\n",
    "water_json_subset2.where(filter3, inplace = True)\n",
    "water_json_subset2\n",
    "\n",
    "water_json_subset2[['cumul','day']].plot(kind='scatter', x='cumul', y='day', figsize=(20,10))"
   ]
  },
  {
   "cell_type": "code",
   "execution_count": 344,
   "metadata": {},
   "outputs": [
    {
     "data": {
      "text/plain": [
       "<AxesSubplot:xlabel='cumul', ylabel='day'>"
      ]
     },
     "execution_count": 344,
     "metadata": {},
     "output_type": "execute_result"
    },
    {
     "data": {
      "image/png": "[encoded data removed]",
      "text/plain": [
       "<Figure size 1440x720 with 1 Axes>"
      ]
     },
     "metadata": {
      "needs_background": "light"
     },
     "output_type": "display_data"
    }
   ],
   "source": [
    "#looking for exact day where cumul outlier during the 11/2021\n",
    "\n",
    "filter4 = water_json_subset[\"day\"]==25\n",
    "\n",
    "water_json_subset2.where(filter4, inplace = True)\n",
    "\n",
    "water_json_subset2[['cumul','day']].plot(kind='scatter', x='cumul', y='day', figsize=(20,10))"
   ]
  },
  {
   "cell_type": "code",
   "execution_count": 345,
   "metadata": {},
   "outputs": [
    {
     "data": {
      "text/plain": [
       "<AxesSubplot:xlabel='cumul', ylabel='day'>"
      ]
     },
     "execution_count": 345,
     "metadata": {},
     "output_type": "execute_result"
    },
    {
     "data": {
      "image/png": "[encoded data removed]",
      "text/plain": [
       "<Figure size 1440x720 with 1 Axes>"
      ]
     },
     "metadata": {
      "needs_background": "light"
     },
     "output_type": "display_data"
    }
   ],
   "source": [
    "#looking for exact value of cumul outlier that is < 4000\n",
    "\n",
    "filter6 = water_json_subset[\"cumul\"] < 4000\n",
    "\n",
    "water_json_subset2.where(filter6, inplace = True)\n",
    "water_json_subset2\n",
    "\n",
    "water_json_subset2[['cumul','day']].plot(kind='scatter', x='cumul', y='day', figsize=(20,10))"
   ]
  },
  {
   "cell_type": "code",
   "execution_count": 346,
   "metadata": {},
   "outputs": [
    {
     "data": {
      "text/html": [
       "<div>\n",
       "<style scoped>\n",
       "    .dataframe tbody tr th:only-of-type {\n",
       "        vertical-align: middle;\n",
       "    }\n",
       "\n",
       "    .dataframe tbody tr th {\n",
       "        vertical-align: top;\n",
       "    }\n",
       "\n",
       "    .dataframe thead th {\n",
       "        text-align: right;\n",
       "    }\n",
       "</style>\n",
       "<table border=\"1\" class=\"dataframe\">\n",
       "  <thead>\n",
       "    <tr style=\"text-align: right;\">\n",
       "      <th></th>\n",
       "      <th>_id</th>\n",
       "      <th>debit</th>\n",
       "      <th>cumul</th>\n",
       "      <th>date</th>\n",
       "      <th>month</th>\n",
       "      <th>year</th>\n",
       "      <th>day</th>\n",
       "    </tr>\n",
       "  </thead>\n",
       "  <tbody>\n",
       "    <tr>\n",
       "      <th>229264</th>\n",
       "      <td>{'$oid': '619fae0f2ca719e67aa4fe26'}</td>\n",
       "      <td>0.0</td>\n",
       "      <td>20.0</td>\n",
       "      <td>2021-11-25 16:38:55</td>\n",
       "      <td>11.0</td>\n",
       "      <td>2021.0</td>\n",
       "      <td>25.0</td>\n",
       "    </tr>\n",
       "  </tbody>\n",
       "</table>\n",
       "</div>"
      ],
      "text/plain": [
       "                                         _id  debit  cumul  \\\n",
       "229264  {'$oid': '619fae0f2ca719e67aa4fe26'}    0.0   20.0   \n",
       "\n",
       "                      date  month    year   day  \n",
       "229264 2021-11-25 16:38:55   11.0  2021.0  25.0  "
      ]
     },
     "execution_count": 346,
     "metadata": {},
     "output_type": "execute_result"
    }
   ],
   "source": [
    "#show data for cumul outlier that is < 4000\n",
    "\n",
    "filter7 = water_json_subset[\"cumul\"] == 20\n",
    "\n",
    "cumul_outlier = water_json_subset2.loc[filter7]\n",
    "cumul_outlier\n"
   ]
  },
  {
   "cell_type": "markdown",
   "metadata": {},
   "source": [
    "1.2 Deleting cumul outlier"
   ]
  },
  {
   "cell_type": "code",
   "execution_count": 347,
   "metadata": {},
   "outputs": [
    {
     "data": {
      "text/html": [
       "<div>\n",
       "<style scoped>\n",
       "    .dataframe tbody tr th:only-of-type {\n",
       "        vertical-align: middle;\n",
       "    }\n",
       "\n",
       "    .dataframe tbody tr th {\n",
       "        vertical-align: top;\n",
       "    }\n",
       "\n",
       "    .dataframe thead th {\n",
       "        text-align: right;\n",
       "    }\n",
       "</style>\n",
       "<table border=\"1\" class=\"dataframe\">\n",
       "  <thead>\n",
       "    <tr style=\"text-align: right;\">\n",
       "      <th></th>\n",
       "      <th>_id</th>\n",
       "      <th>debit</th>\n",
       "      <th>cumul</th>\n",
       "      <th>date</th>\n",
       "      <th>month</th>\n",
       "      <th>year</th>\n",
       "      <th>day</th>\n",
       "    </tr>\n",
       "  </thead>\n",
       "  <tbody>\n",
       "    <tr>\n",
       "      <th>229264</th>\n",
       "      <td>{'$oid': '619fae0f2ca719e67aa4fe26'}</td>\n",
       "      <td>0.0</td>\n",
       "      <td>20.0</td>\n",
       "      <td>2021-11-25 16:38:55</td>\n",
       "      <td>11</td>\n",
       "      <td>2021</td>\n",
       "      <td>25</td>\n",
       "    </tr>\n",
       "  </tbody>\n",
       "</table>\n",
       "</div>"
      ],
      "text/plain": [
       "                                         _id  debit  cumul  \\\n",
       "229264  {'$oid': '619fae0f2ca719e67aa4fe26'}    0.0   20.0   \n",
       "\n",
       "                      date  month  year  day  \n",
       "229264 2021-11-25 16:38:55     11  2021   25  "
      ]
     },
     "execution_count": 347,
     "metadata": {},
     "output_type": "execute_result"
    }
   ],
   "source": [
    "#checking for existence of cumul outlier from water_json_subset\n",
    "cumul_outlier_original = water_json_subset.loc[filter7]\n",
    "cumul_outlier_original"
   ]
  },
  {
   "cell_type": "code",
   "execution_count": 348,
   "metadata": {},
   "outputs": [],
   "source": [
    "#deleting cumul outlier from original data subset \"water_json_subset\"\n",
    "#water_json_subset = water_json_subset.drop(cumul_outlier_original)\n",
    "water_json_subset.drop(cumul_outlier_original.index, inplace = True)"
   ]
  },
  {
   "cell_type": "markdown",
   "metadata": {},
   "source": [
    "1.3 Visualize dataframe after deleting outlier"
   ]
  },
  {
   "cell_type": "code",
   "execution_count": 352,
   "metadata": {},
   "outputs": [
    {
     "data": {
      "image/png": "[encoded data removed]",
      "text/plain": [
       "<Figure size 432x288 with 1 Axes>"
      ]
     },
     "metadata": {
      "needs_background": "light"
     },
     "output_type": "display_data"
    }
   ],
   "source": [
    "plt.plot(water_json_subset[\"cumul\"], water_json_subset[\"date\"]) \n",
    "plt.show()"
   ]
  },
  {
   "cell_type": "markdown",
   "metadata": {},
   "source": [
    "2. Managing data gaps"
   ]
  },
  {
   "cell_type": "code",
   "execution_count": 349,
   "metadata": {},
   "outputs": [
    {
     "data": {
      "text/plain": [
       "{\"_id\":{\"$oid\":\"61543c5dfcfbb44e6a99bbf2\"}    0\n",
       "debit:0.0                                     0\n",
       "cumul:3.8                                     0\n",
       "date:\"2021-09-29 11:13:49\"}                   0\n",
       "dtype: int64"
      ]
     },
     "execution_count": 349,
     "metadata": {},
     "output_type": "execute_result"
    }
   ],
   "source": [
    "water_db_subset.isna().sum()"
   ]
  },
  {
   "cell_type": "markdown",
   "metadata": {},
   "source": [
    "# Average water consumption time"
   ]
  },
  {
   "cell_type": "code",
   "execution_count": 350,
   "metadata": {},
   "outputs": [
    {
     "data": {
      "text/plain": [
       "date\n",
       "1     9.464660e+08\n",
       "2     5.811271e+08\n",
       "3     5.191373e+08\n",
       "4     1.406133e+09\n",
       "5     1.688914e+09\n",
       "9     7.258282e+05\n",
       "10    1.796337e+08\n",
       "11    4.130353e+08\n",
       "12    7.006423e+08\n",
       "Name: cumul, dtype: float64"
      ]
     },
     "execution_count": 350,
     "metadata": {},
     "output_type": "execute_result"
    }
   ],
   "source": [
    "#calculate sum of cumul grouped by month\n",
    "water_json_subset.groupby(water_json_subset.date.dt.month)['cumul'].sum()\n"
   ]
  },
  {
   "cell_type": "code",
   "execution_count": 351,
   "metadata": {},
   "outputs": [
    {
     "data": {
      "text/plain": [
       "date\n",
       "1      9586.5\n",
       "2     10488.8\n",
       "3     11616.3\n",
       "4     15481.5\n",
       "5     17153.7\n",
       "9       155.1\n",
       "10     2377.5\n",
       "11     4719.2\n",
       "12     7157.5\n",
       "Name: cumul, dtype: float64"
      ]
     },
     "execution_count": 351,
     "metadata": {},
     "output_type": "execute_result"
    }
   ],
   "source": [
    "#calculate max of cumul grouped by month\n",
    "water_json_subset.groupby(water_json_subset.date.dt.month)['cumul'].max()"
   ]
  },
  {
   "cell_type": "markdown",
   "metadata": {},
   "source": [
    "# Seuils de fuite"
   ]
  },
  {
   "cell_type": "code",
   "execution_count": null,
   "metadata": {},
   "outputs": [],
   "source": []
  }
 ],
 "metadata": {
  "kernelspec": {
   "display_name": "Python 3.9.7 ('base')",
   "language": "python",
   "name": "python3"
  },
  "language_info": {
   "codemirror_mode": {
    "name": "ipython",
    "version": 3
   },
   "file_extension": ".py",
   "mimetype": "text/x-python",
   "name": "python",
   "nbconvert_exporter": "python",
   "pygments_lexer": "ipython3",
   "version": "3.9.7"
  },
  "orig_nbformat": 4,
  "vscode": {
   "interpreter": {
    "hash": "93cde7ea202bbb821582b29f0b715fedcbc5b2975b0a22889c2aff14bc3d0247"
   }
  }
 },
 "nbformat": 4,
 "nbformat_minor": 2
}
