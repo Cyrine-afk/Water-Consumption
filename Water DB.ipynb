{
 "cells": [
  {
   "cell_type": "code",
   "execution_count": 2,
   "metadata": {},
   "outputs": [],
   "source": [
    "#importing pandas library\n",
    "import pandas as pd"
   ]
  },
  {
   "cell_type": "code",
   "execution_count": 3,
   "metadata": {},
   "outputs": [],
   "source": [
    "\n",
    "#changing the settings to show all rows and columns\n",
    "#pd.set_option('display.max_columns', None)\n",
    "#pd.set_option('display.max_rows', None)"
   ]
  },
  {
   "cell_type": "code",
   "execution_count": 4,
   "metadata": {},
   "outputs": [
    {
     "data": {
      "text/html": [
       "<div>\n",
       "<style scoped>\n",
       "    .dataframe tbody tr th:only-of-type {\n",
       "        vertical-align: middle;\n",
       "    }\n",
       "\n",
       "    .dataframe tbody tr th {\n",
       "        vertical-align: top;\n",
       "    }\n",
       "\n",
       "    .dataframe thead th {\n",
       "        text-align: right;\n",
       "    }\n",
       "</style>\n",
       "<table border=\"1\" class=\"dataframe\">\n",
       "  <thead>\n",
       "    <tr style=\"text-align: right;\">\n",
       "      <th></th>\n",
       "      <th>{\"_id\":{\"$oid\":\"61543c5dfcfbb44e6a99bbf2\"}</th>\n",
       "      <th>debit:0.0</th>\n",
       "      <th>cumul:3.8</th>\n",
       "      <th>date:\"2021-09-29 11:13:49\"}</th>\n",
       "    </tr>\n",
       "  </thead>\n",
       "  <tbody>\n",
       "    <tr>\n",
       "      <th>0</th>\n",
       "      <td>{\"_id\":{\"$oid\":\"61543c6cfcfbb44e6a99bbf3\"}</td>\n",
       "      <td>debit:0.0</td>\n",
       "      <td>cumul:3.8</td>\n",
       "      <td>date:\"2021-09-29 11:14:04\"}</td>\n",
       "    </tr>\n",
       "    <tr>\n",
       "      <th>1</th>\n",
       "      <td>{\"_id\":{\"$oid\":\"61543c7cfcfbb44e6a99bbf4\"}</td>\n",
       "      <td>debit:0.0</td>\n",
       "      <td>cumul:3.8</td>\n",
       "      <td>date:\"2021-09-29 11:14:20\"}</td>\n",
       "    </tr>\n",
       "    <tr>\n",
       "      <th>2</th>\n",
       "      <td>{\"_id\":{\"$oid\":\"61543c99e6e0e637b27d8a03\"}</td>\n",
       "      <td>debit:0.0</td>\n",
       "      <td>cumul:3.8</td>\n",
       "      <td>date:\"2021-09-29 11:14:49\"}</td>\n",
       "    </tr>\n",
       "    <tr>\n",
       "      <th>3</th>\n",
       "      <td>{\"_id\":{\"$oid\":\"61543ca8e6e0e637b27d8a04\"}</td>\n",
       "      <td>debit:0.0</td>\n",
       "      <td>cumul:3.8</td>\n",
       "      <td>date:\"2021-09-29 11:15:04\"}</td>\n",
       "    </tr>\n",
       "    <tr>\n",
       "      <th>4</th>\n",
       "      <td>{\"_id\":{\"$oid\":\"61543cb8e6e0e637b27d8a05\"}</td>\n",
       "      <td>debit:0.0</td>\n",
       "      <td>cumul:3.8</td>\n",
       "      <td>date:\"2021-09-29 11:15:20\"}</td>\n",
       "    </tr>\n",
       "    <tr>\n",
       "      <th>...</th>\n",
       "      <td>...</td>\n",
       "      <td>...</td>\n",
       "      <td>...</td>\n",
       "      <td>...</td>\n",
       "    </tr>\n",
       "    <tr>\n",
       "      <th>794278</th>\n",
       "      <td>{\"_id\":{\"$oid\":\"629308d55041e6ca60747361\"}</td>\n",
       "      <td>debit:0.0</td>\n",
       "      <td>cumul:17153.7</td>\n",
       "      <td>date:\"2022-05-29 06:47:01\"}</td>\n",
       "    </tr>\n",
       "    <tr>\n",
       "      <th>794279</th>\n",
       "      <td>{\"_id\":{\"$oid\":\"629308e45041e6ca60747362\"}</td>\n",
       "      <td>debit:0.0</td>\n",
       "      <td>cumul:17153.7</td>\n",
       "      <td>date:\"2022-05-29 06:47:16\"}</td>\n",
       "    </tr>\n",
       "    <tr>\n",
       "      <th>794280</th>\n",
       "      <td>{\"_id\":{\"$oid\":\"629308f35041e6ca60747363\"}</td>\n",
       "      <td>debit:0.0</td>\n",
       "      <td>cumul:17153.7</td>\n",
       "      <td>date:\"2022-05-29 06:47:31\"}</td>\n",
       "    </tr>\n",
       "    <tr>\n",
       "      <th>794281</th>\n",
       "      <td>{\"_id\":{\"$oid\":\"629309035041e6ca60747364\"}</td>\n",
       "      <td>debit:0.0</td>\n",
       "      <td>cumul:17153.7</td>\n",
       "      <td>date:\"2022-05-29 06:47:47\"}</td>\n",
       "    </tr>\n",
       "    <tr>\n",
       "      <th>794282</th>\n",
       "      <td>{\"_id\":{\"$oid\":\"629309125041e6ca60747365\"}</td>\n",
       "      <td>debit:0.0</td>\n",
       "      <td>cumul:17153.7</td>\n",
       "      <td>date:\"2022-05-29 06:48:02\"}</td>\n",
       "    </tr>\n",
       "  </tbody>\n",
       "</table>\n",
       "<p>794283 rows × 4 columns</p>\n",
       "</div>"
      ],
      "text/plain": [
       "        {\"_id\":{\"$oid\":\"61543c5dfcfbb44e6a99bbf2\"}  debit:0.0      cumul:3.8  \\\n",
       "0       {\"_id\":{\"$oid\":\"61543c6cfcfbb44e6a99bbf3\"}  debit:0.0      cumul:3.8   \n",
       "1       {\"_id\":{\"$oid\":\"61543c7cfcfbb44e6a99bbf4\"}  debit:0.0      cumul:3.8   \n",
       "2       {\"_id\":{\"$oid\":\"61543c99e6e0e637b27d8a03\"}  debit:0.0      cumul:3.8   \n",
       "3       {\"_id\":{\"$oid\":\"61543ca8e6e0e637b27d8a04\"}  debit:0.0      cumul:3.8   \n",
       "4       {\"_id\":{\"$oid\":\"61543cb8e6e0e637b27d8a05\"}  debit:0.0      cumul:3.8   \n",
       "...                                            ...        ...            ...   \n",
       "794278  {\"_id\":{\"$oid\":\"629308d55041e6ca60747361\"}  debit:0.0  cumul:17153.7   \n",
       "794279  {\"_id\":{\"$oid\":\"629308e45041e6ca60747362\"}  debit:0.0  cumul:17153.7   \n",
       "794280  {\"_id\":{\"$oid\":\"629308f35041e6ca60747363\"}  debit:0.0  cumul:17153.7   \n",
       "794281  {\"_id\":{\"$oid\":\"629309035041e6ca60747364\"}  debit:0.0  cumul:17153.7   \n",
       "794282  {\"_id\":{\"$oid\":\"629309125041e6ca60747365\"}  debit:0.0  cumul:17153.7   \n",
       "\n",
       "        date:\"2021-09-29 11:13:49\"}  \n",
       "0       date:\"2021-09-29 11:14:04\"}  \n",
       "1       date:\"2021-09-29 11:14:20\"}  \n",
       "2       date:\"2021-09-29 11:14:49\"}  \n",
       "3       date:\"2021-09-29 11:15:04\"}  \n",
       "4       date:\"2021-09-29 11:15:20\"}  \n",
       "...                             ...  \n",
       "794278  date:\"2022-05-29 06:47:01\"}  \n",
       "794279  date:\"2022-05-29 06:47:16\"}  \n",
       "794280  date:\"2022-05-29 06:47:31\"}  \n",
       "794281  date:\"2022-05-29 06:47:47\"}  \n",
       "794282  date:\"2022-05-29 06:48:02\"}  \n",
       "\n",
       "[794283 rows x 4 columns]"
      ]
     },
     "execution_count": 4,
     "metadata": {},
     "output_type": "execute_result"
    }
   ],
   "source": [
    "#reading the database file\n",
    "water_db = pd.read_csv('DROPPY.json')\n",
    "water_db"
   ]
  },
  {
   "cell_type": "code",
   "execution_count": 5,
   "metadata": {},
   "outputs": [
    {
     "data": {
      "text/plain": [
       "debit:0.0    778414\n",
       "debit:1.1      2595\n",
       "debit:1.2      2306\n",
       "debit:0.1      1171\n",
       "debit:0.2       994\n",
       "debit:0.3       962\n",
       "debit:1.0       937\n",
       "debit:0.4       921\n",
       "debit:1.3       755\n",
       "debit:0.5       751\n",
       "debit:0.6       732\n",
       "debit:0.8       713\n",
       "debit:0.7       651\n",
       "debit:0.9       577\n",
       "debit:1.4       442\n",
       "debit:1.5       266\n",
       "debit:1.6       211\n",
       "debit:1.7       179\n",
       "debit:1.8       115\n",
       "debit:1.9        84\n",
       "debit:2.1        58\n",
       "debit:2.0        57\n",
       "debit:2.2        56\n",
       "debit:2.3        37\n",
       "debit:2.4        36\n",
       "debit:2.5        31\n",
       "debit:2.6        28\n",
       "debit:2.8        24\n",
       "debit:2.9        23\n",
       "debit:2.7        20\n",
       "debit:3.1        16\n",
       "debit:3.0        15\n",
       "debit:3.5        15\n",
       "debit:3.6        14\n",
       "debit:3.4        10\n",
       "debit:3.3        10\n",
       "debit:3.7         9\n",
       "debit:3.2         8\n",
       "debit:4.1         8\n",
       "debit:4.3         7\n",
       "debit:3.8         7\n",
       "debit:4.4         6\n",
       "debit:3.9         6\n",
       "debit:4.0         2\n",
       "debit:4.2         2\n",
       "debit:4.6         2\n",
       "Name: debit:0.0, dtype: int64"
      ]
     },
     "execution_count": 5,
     "metadata": {},
     "output_type": "execute_result"
    }
   ],
   "source": [
    "#checking débit values\n",
    "water_db['debit:0.0'].value_counts()"
   ]
  },
  {
   "cell_type": "code",
   "execution_count": 6,
   "metadata": {},
   "outputs": [
    {
     "data": {
      "text/plain": [
       "Index(['{\"_id\":{\"$oid\":\"61543c5dfcfbb44e6a99bbf2\"}', 'debit:0.0', 'cumul:3.8',\n",
       "       'date:\"2021-09-29 11:13:49\"}'],\n",
       "      dtype='object')"
      ]
     },
     "execution_count": 6,
     "metadata": {},
     "output_type": "execute_result"
    }
   ],
   "source": [
    "#getting columns names\n",
    "water_db.columns"
   ]
  },
  {
   "cell_type": "code",
   "execution_count": 7,
   "metadata": {},
   "outputs": [
    {
     "data": {
      "text/html": [
       "<div>\n",
       "<style scoped>\n",
       "    .dataframe tbody tr th:only-of-type {\n",
       "        vertical-align: middle;\n",
       "    }\n",
       "\n",
       "    .dataframe tbody tr th {\n",
       "        vertical-align: top;\n",
       "    }\n",
       "\n",
       "    .dataframe thead th {\n",
       "        text-align: right;\n",
       "    }\n",
       "</style>\n",
       "<table border=\"1\" class=\"dataframe\">\n",
       "  <thead>\n",
       "    <tr style=\"text-align: right;\">\n",
       "      <th></th>\n",
       "      <th>{\"_id\":{\"$oid\":\"61543c5dfcfbb44e6a99bbf2\"}</th>\n",
       "      <th>debit:0.0</th>\n",
       "      <th>cumul:3.8</th>\n",
       "      <th>date:\"2021-09-29 11:13:49\"}</th>\n",
       "    </tr>\n",
       "  </thead>\n",
       "  <tbody>\n",
       "    <tr>\n",
       "      <th>0</th>\n",
       "      <td>{\"_id\":{\"$oid\":\"61543c6cfcfbb44e6a99bbf3\"}</td>\n",
       "      <td>debit:0.0</td>\n",
       "      <td>cumul:3.8</td>\n",
       "      <td>date:\"2021-09-29 11:14:04\"}</td>\n",
       "    </tr>\n",
       "    <tr>\n",
       "      <th>1</th>\n",
       "      <td>{\"_id\":{\"$oid\":\"61543c7cfcfbb44e6a99bbf4\"}</td>\n",
       "      <td>debit:0.0</td>\n",
       "      <td>cumul:3.8</td>\n",
       "      <td>date:\"2021-09-29 11:14:20\"}</td>\n",
       "    </tr>\n",
       "    <tr>\n",
       "      <th>2</th>\n",
       "      <td>{\"_id\":{\"$oid\":\"61543c99e6e0e637b27d8a03\"}</td>\n",
       "      <td>debit:0.0</td>\n",
       "      <td>cumul:3.8</td>\n",
       "      <td>date:\"2021-09-29 11:14:49\"}</td>\n",
       "    </tr>\n",
       "    <tr>\n",
       "      <th>3</th>\n",
       "      <td>{\"_id\":{\"$oid\":\"61543ca8e6e0e637b27d8a04\"}</td>\n",
       "      <td>debit:0.0</td>\n",
       "      <td>cumul:3.8</td>\n",
       "      <td>date:\"2021-09-29 11:15:04\"}</td>\n",
       "    </tr>\n",
       "    <tr>\n",
       "      <th>4</th>\n",
       "      <td>{\"_id\":{\"$oid\":\"61543cb8e6e0e637b27d8a05\"}</td>\n",
       "      <td>debit:0.0</td>\n",
       "      <td>cumul:3.8</td>\n",
       "      <td>date:\"2021-09-29 11:15:20\"}</td>\n",
       "    </tr>\n",
       "    <tr>\n",
       "      <th>...</th>\n",
       "      <td>...</td>\n",
       "      <td>...</td>\n",
       "      <td>...</td>\n",
       "      <td>...</td>\n",
       "    </tr>\n",
       "    <tr>\n",
       "      <th>794278</th>\n",
       "      <td>{\"_id\":{\"$oid\":\"629308d55041e6ca60747361\"}</td>\n",
       "      <td>debit:0.0</td>\n",
       "      <td>cumul:17153.7</td>\n",
       "      <td>date:\"2022-05-29 06:47:01\"}</td>\n",
       "    </tr>\n",
       "    <tr>\n",
       "      <th>794279</th>\n",
       "      <td>{\"_id\":{\"$oid\":\"629308e45041e6ca60747362\"}</td>\n",
       "      <td>debit:0.0</td>\n",
       "      <td>cumul:17153.7</td>\n",
       "      <td>date:\"2022-05-29 06:47:16\"}</td>\n",
       "    </tr>\n",
       "    <tr>\n",
       "      <th>794280</th>\n",
       "      <td>{\"_id\":{\"$oid\":\"629308f35041e6ca60747363\"}</td>\n",
       "      <td>debit:0.0</td>\n",
       "      <td>cumul:17153.7</td>\n",
       "      <td>date:\"2022-05-29 06:47:31\"}</td>\n",
       "    </tr>\n",
       "    <tr>\n",
       "      <th>794281</th>\n",
       "      <td>{\"_id\":{\"$oid\":\"629309035041e6ca60747364\"}</td>\n",
       "      <td>debit:0.0</td>\n",
       "      <td>cumul:17153.7</td>\n",
       "      <td>date:\"2022-05-29 06:47:47\"}</td>\n",
       "    </tr>\n",
       "    <tr>\n",
       "      <th>794282</th>\n",
       "      <td>{\"_id\":{\"$oid\":\"629309125041e6ca60747365\"}</td>\n",
       "      <td>debit:0.0</td>\n",
       "      <td>cumul:17153.7</td>\n",
       "      <td>date:\"2022-05-29 06:48:02\"}</td>\n",
       "    </tr>\n",
       "  </tbody>\n",
       "</table>\n",
       "<p>794283 rows × 4 columns</p>\n",
       "</div>"
      ],
      "text/plain": [
       "        {\"_id\":{\"$oid\":\"61543c5dfcfbb44e6a99bbf2\"}  debit:0.0      cumul:3.8  \\\n",
       "0       {\"_id\":{\"$oid\":\"61543c6cfcfbb44e6a99bbf3\"}  debit:0.0      cumul:3.8   \n",
       "1       {\"_id\":{\"$oid\":\"61543c7cfcfbb44e6a99bbf4\"}  debit:0.0      cumul:3.8   \n",
       "2       {\"_id\":{\"$oid\":\"61543c99e6e0e637b27d8a03\"}  debit:0.0      cumul:3.8   \n",
       "3       {\"_id\":{\"$oid\":\"61543ca8e6e0e637b27d8a04\"}  debit:0.0      cumul:3.8   \n",
       "4       {\"_id\":{\"$oid\":\"61543cb8e6e0e637b27d8a05\"}  debit:0.0      cumul:3.8   \n",
       "...                                            ...        ...            ...   \n",
       "794278  {\"_id\":{\"$oid\":\"629308d55041e6ca60747361\"}  debit:0.0  cumul:17153.7   \n",
       "794279  {\"_id\":{\"$oid\":\"629308e45041e6ca60747362\"}  debit:0.0  cumul:17153.7   \n",
       "794280  {\"_id\":{\"$oid\":\"629308f35041e6ca60747363\"}  debit:0.0  cumul:17153.7   \n",
       "794281  {\"_id\":{\"$oid\":\"629309035041e6ca60747364\"}  debit:0.0  cumul:17153.7   \n",
       "794282  {\"_id\":{\"$oid\":\"629309125041e6ca60747365\"}  debit:0.0  cumul:17153.7   \n",
       "\n",
       "        date:\"2021-09-29 11:13:49\"}  \n",
       "0       date:\"2021-09-29 11:14:04\"}  \n",
       "1       date:\"2021-09-29 11:14:20\"}  \n",
       "2       date:\"2021-09-29 11:14:49\"}  \n",
       "3       date:\"2021-09-29 11:15:04\"}  \n",
       "4       date:\"2021-09-29 11:15:20\"}  \n",
       "...                             ...  \n",
       "794278  date:\"2022-05-29 06:47:01\"}  \n",
       "794279  date:\"2022-05-29 06:47:16\"}  \n",
       "794280  date:\"2022-05-29 06:47:31\"}  \n",
       "794281  date:\"2022-05-29 06:47:47\"}  \n",
       "794282  date:\"2022-05-29 06:48:02\"}  \n",
       "\n",
       "[794283 rows x 4 columns]"
      ]
     },
     "execution_count": 7,
     "metadata": {},
     "output_type": "execute_result"
    }
   ],
   "source": [
    "#creating a copy of the dataset\n",
    "water_db_subset = water_db[['{\"_id\":{\"$oid\":\"61543c5dfcfbb44e6a99bbf2\"}', 'debit:0.0', 'cumul:3.8', 'date:\"2021-09-29 11:13:49\"}']]\n",
    "water_db_subset"
   ]
  },
  {
   "cell_type": "code",
   "execution_count": 8,
   "metadata": {},
   "outputs": [],
   "source": [
    "#converting .json file into a dataframe\n",
    "water_db_json_file = 'DROPPY.json'"
   ]
  },
  {
   "cell_type": "code",
   "execution_count": 9,
   "metadata": {},
   "outputs": [],
   "source": [
    "water_json = pd.read_json(water_db_json_file,\n",
    "   convert_dates=True, lines=True)"
   ]
  },
  {
   "cell_type": "code",
   "execution_count": 10,
   "metadata": {},
   "outputs": [
    {
     "data": {
      "text/html": [
       "<div>\n",
       "<style scoped>\n",
       "    .dataframe tbody tr th:only-of-type {\n",
       "        vertical-align: middle;\n",
       "    }\n",
       "\n",
       "    .dataframe tbody tr th {\n",
       "        vertical-align: top;\n",
       "    }\n",
       "\n",
       "    .dataframe thead th {\n",
       "        text-align: right;\n",
       "    }\n",
       "</style>\n",
       "<table border=\"1\" class=\"dataframe\">\n",
       "  <thead>\n",
       "    <tr style=\"text-align: right;\">\n",
       "      <th></th>\n",
       "      <th>_id</th>\n",
       "      <th>debit</th>\n",
       "      <th>cumul</th>\n",
       "      <th>date</th>\n",
       "    </tr>\n",
       "  </thead>\n",
       "  <tbody>\n",
       "    <tr>\n",
       "      <th>0</th>\n",
       "      <td>{'$oid': '61543c5dfcfbb44e6a99bbf2'}</td>\n",
       "      <td>0.0</td>\n",
       "      <td>3.8</td>\n",
       "      <td>2021-09-29 11:13:49</td>\n",
       "    </tr>\n",
       "    <tr>\n",
       "      <th>1</th>\n",
       "      <td>{'$oid': '61543c6cfcfbb44e6a99bbf3'}</td>\n",
       "      <td>0.0</td>\n",
       "      <td>3.8</td>\n",
       "      <td>2021-09-29 11:14:04</td>\n",
       "    </tr>\n",
       "    <tr>\n",
       "      <th>2</th>\n",
       "      <td>{'$oid': '61543c7cfcfbb44e6a99bbf4'}</td>\n",
       "      <td>0.0</td>\n",
       "      <td>3.8</td>\n",
       "      <td>2021-09-29 11:14:20</td>\n",
       "    </tr>\n",
       "    <tr>\n",
       "      <th>3</th>\n",
       "      <td>{'$oid': '61543c99e6e0e637b27d8a03'}</td>\n",
       "      <td>0.0</td>\n",
       "      <td>3.8</td>\n",
       "      <td>2021-09-29 11:14:49</td>\n",
       "    </tr>\n",
       "    <tr>\n",
       "      <th>4</th>\n",
       "      <td>{'$oid': '61543ca8e6e0e637b27d8a04'}</td>\n",
       "      <td>0.0</td>\n",
       "      <td>3.8</td>\n",
       "      <td>2021-09-29 11:15:04</td>\n",
       "    </tr>\n",
       "  </tbody>\n",
       "</table>\n",
       "</div>"
      ],
      "text/plain": [
       "                                    _id  debit  cumul                date\n",
       "0  {'$oid': '61543c5dfcfbb44e6a99bbf2'}    0.0    3.8 2021-09-29 11:13:49\n",
       "1  {'$oid': '61543c6cfcfbb44e6a99bbf3'}    0.0    3.8 2021-09-29 11:14:04\n",
       "2  {'$oid': '61543c7cfcfbb44e6a99bbf4'}    0.0    3.8 2021-09-29 11:14:20\n",
       "3  {'$oid': '61543c99e6e0e637b27d8a03'}    0.0    3.8 2021-09-29 11:14:49\n",
       "4  {'$oid': '61543ca8e6e0e637b27d8a04'}    0.0    3.8 2021-09-29 11:15:04"
      ]
     },
     "execution_count": 10,
     "metadata": {},
     "output_type": "execute_result"
    }
   ],
   "source": [
    "water_json.head()"
   ]
  },
  {
   "cell_type": "code",
   "execution_count": 11,
   "metadata": {},
   "outputs": [
    {
     "data": {
      "text/html": [
       "<div>\n",
       "<style scoped>\n",
       "    .dataframe tbody tr th:only-of-type {\n",
       "        vertical-align: middle;\n",
       "    }\n",
       "\n",
       "    .dataframe tbody tr th {\n",
       "        vertical-align: top;\n",
       "    }\n",
       "\n",
       "    .dataframe thead th {\n",
       "        text-align: right;\n",
       "    }\n",
       "</style>\n",
       "<table border=\"1\" class=\"dataframe\">\n",
       "  <thead>\n",
       "    <tr style=\"text-align: right;\">\n",
       "      <th></th>\n",
       "      <th>_id</th>\n",
       "      <th>debit</th>\n",
       "      <th>cumul</th>\n",
       "      <th>date</th>\n",
       "    </tr>\n",
       "  </thead>\n",
       "  <tbody>\n",
       "    <tr>\n",
       "      <th>0</th>\n",
       "      <td>{'$oid': '61543c5dfcfbb44e6a99bbf2'}</td>\n",
       "      <td>0.0</td>\n",
       "      <td>3.8</td>\n",
       "      <td>2021-09-29 11:13:49</td>\n",
       "    </tr>\n",
       "    <tr>\n",
       "      <th>1</th>\n",
       "      <td>{'$oid': '61543c6cfcfbb44e6a99bbf3'}</td>\n",
       "      <td>0.0</td>\n",
       "      <td>3.8</td>\n",
       "      <td>2021-09-29 11:14:04</td>\n",
       "    </tr>\n",
       "    <tr>\n",
       "      <th>2</th>\n",
       "      <td>{'$oid': '61543c7cfcfbb44e6a99bbf4'}</td>\n",
       "      <td>0.0</td>\n",
       "      <td>3.8</td>\n",
       "      <td>2021-09-29 11:14:20</td>\n",
       "    </tr>\n",
       "    <tr>\n",
       "      <th>3</th>\n",
       "      <td>{'$oid': '61543c99e6e0e637b27d8a03'}</td>\n",
       "      <td>0.0</td>\n",
       "      <td>3.8</td>\n",
       "      <td>2021-09-29 11:14:49</td>\n",
       "    </tr>\n",
       "    <tr>\n",
       "      <th>4</th>\n",
       "      <td>{'$oid': '61543ca8e6e0e637b27d8a04'}</td>\n",
       "      <td>0.0</td>\n",
       "      <td>3.8</td>\n",
       "      <td>2021-09-29 11:15:04</td>\n",
       "    </tr>\n",
       "    <tr>\n",
       "      <th>...</th>\n",
       "      <td>...</td>\n",
       "      <td>...</td>\n",
       "      <td>...</td>\n",
       "      <td>...</td>\n",
       "    </tr>\n",
       "    <tr>\n",
       "      <th>794279</th>\n",
       "      <td>{'$oid': '629308d55041e6ca60747361'}</td>\n",
       "      <td>0.0</td>\n",
       "      <td>17153.7</td>\n",
       "      <td>2022-05-29 06:47:01</td>\n",
       "    </tr>\n",
       "    <tr>\n",
       "      <th>794280</th>\n",
       "      <td>{'$oid': '629308e45041e6ca60747362'}</td>\n",
       "      <td>0.0</td>\n",
       "      <td>17153.7</td>\n",
       "      <td>2022-05-29 06:47:16</td>\n",
       "    </tr>\n",
       "    <tr>\n",
       "      <th>794281</th>\n",
       "      <td>{'$oid': '629308f35041e6ca60747363'}</td>\n",
       "      <td>0.0</td>\n",
       "      <td>17153.7</td>\n",
       "      <td>2022-05-29 06:47:31</td>\n",
       "    </tr>\n",
       "    <tr>\n",
       "      <th>794282</th>\n",
       "      <td>{'$oid': '629309035041e6ca60747364'}</td>\n",
       "      <td>0.0</td>\n",
       "      <td>17153.7</td>\n",
       "      <td>2022-05-29 06:47:47</td>\n",
       "    </tr>\n",
       "    <tr>\n",
       "      <th>794283</th>\n",
       "      <td>{'$oid': '629309125041e6ca60747365'}</td>\n",
       "      <td>0.0</td>\n",
       "      <td>17153.7</td>\n",
       "      <td>2022-05-29 06:48:02</td>\n",
       "    </tr>\n",
       "  </tbody>\n",
       "</table>\n",
       "<p>794284 rows × 4 columns</p>\n",
       "</div>"
      ],
      "text/plain": [
       "                                         _id  debit    cumul  \\\n",
       "0       {'$oid': '61543c5dfcfbb44e6a99bbf2'}    0.0      3.8   \n",
       "1       {'$oid': '61543c6cfcfbb44e6a99bbf3'}    0.0      3.8   \n",
       "2       {'$oid': '61543c7cfcfbb44e6a99bbf4'}    0.0      3.8   \n",
       "3       {'$oid': '61543c99e6e0e637b27d8a03'}    0.0      3.8   \n",
       "4       {'$oid': '61543ca8e6e0e637b27d8a04'}    0.0      3.8   \n",
       "...                                      ...    ...      ...   \n",
       "794279  {'$oid': '629308d55041e6ca60747361'}    0.0  17153.7   \n",
       "794280  {'$oid': '629308e45041e6ca60747362'}    0.0  17153.7   \n",
       "794281  {'$oid': '629308f35041e6ca60747363'}    0.0  17153.7   \n",
       "794282  {'$oid': '629309035041e6ca60747364'}    0.0  17153.7   \n",
       "794283  {'$oid': '629309125041e6ca60747365'}    0.0  17153.7   \n",
       "\n",
       "                      date  \n",
       "0      2021-09-29 11:13:49  \n",
       "1      2021-09-29 11:14:04  \n",
       "2      2021-09-29 11:14:20  \n",
       "3      2021-09-29 11:14:49  \n",
       "4      2021-09-29 11:15:04  \n",
       "...                    ...  \n",
       "794279 2022-05-29 06:47:01  \n",
       "794280 2022-05-29 06:47:16  \n",
       "794281 2022-05-29 06:47:31  \n",
       "794282 2022-05-29 06:47:47  \n",
       "794283 2022-05-29 06:48:02  \n",
       "\n",
       "[794284 rows x 4 columns]"
      ]
     },
     "execution_count": 11,
     "metadata": {},
     "output_type": "execute_result"
    }
   ],
   "source": [
    "#show dataframe\n",
    "water_json"
   ]
  },
  {
   "cell_type": "code",
   "execution_count": 12,
   "metadata": {},
   "outputs": [
    {
     "data": {
      "text/html": [
       "<div>\n",
       "<style scoped>\n",
       "    .dataframe tbody tr th:only-of-type {\n",
       "        vertical-align: middle;\n",
       "    }\n",
       "\n",
       "    .dataframe tbody tr th {\n",
       "        vertical-align: top;\n",
       "    }\n",
       "\n",
       "    .dataframe thead th {\n",
       "        text-align: right;\n",
       "    }\n",
       "</style>\n",
       "<table border=\"1\" class=\"dataframe\">\n",
       "  <thead>\n",
       "    <tr style=\"text-align: right;\">\n",
       "      <th></th>\n",
       "      <th>_id</th>\n",
       "      <th>debit</th>\n",
       "      <th>cumul</th>\n",
       "      <th>date</th>\n",
       "    </tr>\n",
       "  </thead>\n",
       "  <tbody>\n",
       "    <tr>\n",
       "      <th>0</th>\n",
       "      <td>{'$oid': '61543c5dfcfbb44e6a99bbf2'}</td>\n",
       "      <td>0.0</td>\n",
       "      <td>3.8</td>\n",
       "      <td>2021-09-29 11:13:49</td>\n",
       "    </tr>\n",
       "    <tr>\n",
       "      <th>1</th>\n",
       "      <td>{'$oid': '61543c6cfcfbb44e6a99bbf3'}</td>\n",
       "      <td>0.0</td>\n",
       "      <td>3.8</td>\n",
       "      <td>2021-09-29 11:14:04</td>\n",
       "    </tr>\n",
       "    <tr>\n",
       "      <th>2</th>\n",
       "      <td>{'$oid': '61543c7cfcfbb44e6a99bbf4'}</td>\n",
       "      <td>0.0</td>\n",
       "      <td>3.8</td>\n",
       "      <td>2021-09-29 11:14:20</td>\n",
       "    </tr>\n",
       "    <tr>\n",
       "      <th>3</th>\n",
       "      <td>{'$oid': '61543c99e6e0e637b27d8a03'}</td>\n",
       "      <td>0.0</td>\n",
       "      <td>3.8</td>\n",
       "      <td>2021-09-29 11:14:49</td>\n",
       "    </tr>\n",
       "    <tr>\n",
       "      <th>4</th>\n",
       "      <td>{'$oid': '61543ca8e6e0e637b27d8a04'}</td>\n",
       "      <td>0.0</td>\n",
       "      <td>3.8</td>\n",
       "      <td>2021-09-29 11:15:04</td>\n",
       "    </tr>\n",
       "  </tbody>\n",
       "</table>\n",
       "</div>"
      ],
      "text/plain": [
       "                                    _id  debit  cumul                date\n",
       "0  {'$oid': '61543c5dfcfbb44e6a99bbf2'}    0.0    3.8 2021-09-29 11:13:49\n",
       "1  {'$oid': '61543c6cfcfbb44e6a99bbf3'}    0.0    3.8 2021-09-29 11:14:04\n",
       "2  {'$oid': '61543c7cfcfbb44e6a99bbf4'}    0.0    3.8 2021-09-29 11:14:20\n",
       "3  {'$oid': '61543c99e6e0e637b27d8a03'}    0.0    3.8 2021-09-29 11:14:49\n",
       "4  {'$oid': '61543ca8e6e0e637b27d8a04'}    0.0    3.8 2021-09-29 11:15:04"
      ]
     },
     "execution_count": 12,
     "metadata": {},
     "output_type": "execute_result"
    }
   ],
   "source": [
    "water_json.head(5)"
   ]
  },
  {
   "cell_type": "code",
   "execution_count": 13,
   "metadata": {},
   "outputs": [
    {
     "data": {
      "text/plain": [
       "Index(['_id', 'debit', 'cumul', 'date'], dtype='object')"
      ]
     },
     "execution_count": 13,
     "metadata": {},
     "output_type": "execute_result"
    }
   ],
   "source": [
    "#creating data subset\n",
    "water_json.columns"
   ]
  },
  {
   "cell_type": "code",
   "execution_count": 14,
   "metadata": {},
   "outputs": [
    {
     "data": {
      "text/html": [
       "<div>\n",
       "<style scoped>\n",
       "    .dataframe tbody tr th:only-of-type {\n",
       "        vertical-align: middle;\n",
       "    }\n",
       "\n",
       "    .dataframe tbody tr th {\n",
       "        vertical-align: top;\n",
       "    }\n",
       "\n",
       "    .dataframe thead th {\n",
       "        text-align: right;\n",
       "    }\n",
       "</style>\n",
       "<table border=\"1\" class=\"dataframe\">\n",
       "  <thead>\n",
       "    <tr style=\"text-align: right;\">\n",
       "      <th></th>\n",
       "      <th>_id</th>\n",
       "      <th>debit</th>\n",
       "      <th>cumul</th>\n",
       "      <th>date</th>\n",
       "    </tr>\n",
       "  </thead>\n",
       "  <tbody>\n",
       "    <tr>\n",
       "      <th>0</th>\n",
       "      <td>{'$oid': '61543c5dfcfbb44e6a99bbf2'}</td>\n",
       "      <td>0.0</td>\n",
       "      <td>3.8</td>\n",
       "      <td>2021-09-29 11:13:49</td>\n",
       "    </tr>\n",
       "    <tr>\n",
       "      <th>1</th>\n",
       "      <td>{'$oid': '61543c6cfcfbb44e6a99bbf3'}</td>\n",
       "      <td>0.0</td>\n",
       "      <td>3.8</td>\n",
       "      <td>2021-09-29 11:14:04</td>\n",
       "    </tr>\n",
       "    <tr>\n",
       "      <th>2</th>\n",
       "      <td>{'$oid': '61543c7cfcfbb44e6a99bbf4'}</td>\n",
       "      <td>0.0</td>\n",
       "      <td>3.8</td>\n",
       "      <td>2021-09-29 11:14:20</td>\n",
       "    </tr>\n",
       "    <tr>\n",
       "      <th>3</th>\n",
       "      <td>{'$oid': '61543c99e6e0e637b27d8a03'}</td>\n",
       "      <td>0.0</td>\n",
       "      <td>3.8</td>\n",
       "      <td>2021-09-29 11:14:49</td>\n",
       "    </tr>\n",
       "    <tr>\n",
       "      <th>4</th>\n",
       "      <td>{'$oid': '61543ca8e6e0e637b27d8a04'}</td>\n",
       "      <td>0.0</td>\n",
       "      <td>3.8</td>\n",
       "      <td>2021-09-29 11:15:04</td>\n",
       "    </tr>\n",
       "    <tr>\n",
       "      <th>...</th>\n",
       "      <td>...</td>\n",
       "      <td>...</td>\n",
       "      <td>...</td>\n",
       "      <td>...</td>\n",
       "    </tr>\n",
       "    <tr>\n",
       "      <th>794279</th>\n",
       "      <td>{'$oid': '629308d55041e6ca60747361'}</td>\n",
       "      <td>0.0</td>\n",
       "      <td>17153.7</td>\n",
       "      <td>2022-05-29 06:47:01</td>\n",
       "    </tr>\n",
       "    <tr>\n",
       "      <th>794280</th>\n",
       "      <td>{'$oid': '629308e45041e6ca60747362'}</td>\n",
       "      <td>0.0</td>\n",
       "      <td>17153.7</td>\n",
       "      <td>2022-05-29 06:47:16</td>\n",
       "    </tr>\n",
       "    <tr>\n",
       "      <th>794281</th>\n",
       "      <td>{'$oid': '629308f35041e6ca60747363'}</td>\n",
       "      <td>0.0</td>\n",
       "      <td>17153.7</td>\n",
       "      <td>2022-05-29 06:47:31</td>\n",
       "    </tr>\n",
       "    <tr>\n",
       "      <th>794282</th>\n",
       "      <td>{'$oid': '629309035041e6ca60747364'}</td>\n",
       "      <td>0.0</td>\n",
       "      <td>17153.7</td>\n",
       "      <td>2022-05-29 06:47:47</td>\n",
       "    </tr>\n",
       "    <tr>\n",
       "      <th>794283</th>\n",
       "      <td>{'$oid': '629309125041e6ca60747365'}</td>\n",
       "      <td>0.0</td>\n",
       "      <td>17153.7</td>\n",
       "      <td>2022-05-29 06:48:02</td>\n",
       "    </tr>\n",
       "  </tbody>\n",
       "</table>\n",
       "<p>794284 rows × 4 columns</p>\n",
       "</div>"
      ],
      "text/plain": [
       "                                         _id  debit    cumul  \\\n",
       "0       {'$oid': '61543c5dfcfbb44e6a99bbf2'}    0.0      3.8   \n",
       "1       {'$oid': '61543c6cfcfbb44e6a99bbf3'}    0.0      3.8   \n",
       "2       {'$oid': '61543c7cfcfbb44e6a99bbf4'}    0.0      3.8   \n",
       "3       {'$oid': '61543c99e6e0e637b27d8a03'}    0.0      3.8   \n",
       "4       {'$oid': '61543ca8e6e0e637b27d8a04'}    0.0      3.8   \n",
       "...                                      ...    ...      ...   \n",
       "794279  {'$oid': '629308d55041e6ca60747361'}    0.0  17153.7   \n",
       "794280  {'$oid': '629308e45041e6ca60747362'}    0.0  17153.7   \n",
       "794281  {'$oid': '629308f35041e6ca60747363'}    0.0  17153.7   \n",
       "794282  {'$oid': '629309035041e6ca60747364'}    0.0  17153.7   \n",
       "794283  {'$oid': '629309125041e6ca60747365'}    0.0  17153.7   \n",
       "\n",
       "                      date  \n",
       "0      2021-09-29 11:13:49  \n",
       "1      2021-09-29 11:14:04  \n",
       "2      2021-09-29 11:14:20  \n",
       "3      2021-09-29 11:14:49  \n",
       "4      2021-09-29 11:15:04  \n",
       "...                    ...  \n",
       "794279 2022-05-29 06:47:01  \n",
       "794280 2022-05-29 06:47:16  \n",
       "794281 2022-05-29 06:47:31  \n",
       "794282 2022-05-29 06:47:47  \n",
       "794283 2022-05-29 06:48:02  \n",
       "\n",
       "[794284 rows x 4 columns]"
      ]
     },
     "execution_count": 14,
     "metadata": {},
     "output_type": "execute_result"
    }
   ],
   "source": [
    "water_json_subset = water_json[['_id', 'debit', 'cumul', 'date']]\n",
    "water_json_subset"
   ]
  },
  {
   "cell_type": "code",
   "execution_count": 15,
   "metadata": {},
   "outputs": [
    {
     "data": {
      "text/plain": [
       "array([[<AxesSubplot:title={'center':'debit'}>,\n",
       "        <AxesSubplot:title={'center':'cumul'}>],\n",
       "       [<AxesSubplot:title={'center':'date'}>, <AxesSubplot:>]],\n",
       "      dtype=object)"
      ]
     },
     "execution_count": 15,
     "metadata": {},
     "output_type": "execute_result"
    },
    {
     "data": {
      "image/png": "[encoded data removed]",
      "text/plain": [
       "<Figure size 1440x720 with 4 Axes>"
      ]
     },
     "metadata": {
      "needs_background": "light"
     },
     "output_type": "display_data"
    }
   ],
   "source": [
    "#viewing data histograms\n",
    "water_json_subset.hist(bins=60, figsize=(20,10))"
   ]
  },
  {
   "cell_type": "markdown",
   "metadata": {},
   "source": [
    "# ON & OFF Saturation"
   ]
  },
  {
   "cell_type": "code",
   "execution_count": 16,
   "metadata": {},
   "outputs": [
    {
     "data": {
      "text/html": [
       "<div>\n",
       "<style scoped>\n",
       "    .dataframe tbody tr th:only-of-type {\n",
       "        vertical-align: middle;\n",
       "    }\n",
       "\n",
       "    .dataframe tbody tr th {\n",
       "        vertical-align: top;\n",
       "    }\n",
       "\n",
       "    .dataframe thead th {\n",
       "        text-align: right;\n",
       "    }\n",
       "</style>\n",
       "<table border=\"1\" class=\"dataframe\">\n",
       "  <thead>\n",
       "    <tr style=\"text-align: right;\">\n",
       "      <th></th>\n",
       "      <th>_id</th>\n",
       "      <th>debit</th>\n",
       "      <th>cumul</th>\n",
       "      <th>date</th>\n",
       "    </tr>\n",
       "  </thead>\n",
       "  <tbody>\n",
       "    <tr>\n",
       "      <th>112</th>\n",
       "      <td>{'$oid': '6154434722486052ba7def0d'}</td>\n",
       "      <td>1.2</td>\n",
       "      <td>5.0</td>\n",
       "      <td>2021-09-29 11:43:19</td>\n",
       "    </tr>\n",
       "    <tr>\n",
       "      <th>113</th>\n",
       "      <td>{'$oid': '6154435722486052ba7def0e'}</td>\n",
       "      <td>1.2</td>\n",
       "      <td>6.2</td>\n",
       "      <td>2021-09-29 11:43:35</td>\n",
       "    </tr>\n",
       "    <tr>\n",
       "      <th>114</th>\n",
       "      <td>{'$oid': '6154436622486052ba7def0f'}</td>\n",
       "      <td>0.8</td>\n",
       "      <td>7.0</td>\n",
       "      <td>2021-09-29 11:43:50</td>\n",
       "    </tr>\n",
       "    <tr>\n",
       "      <th>115</th>\n",
       "      <td>{'$oid': '6154437522486052ba7def10'}</td>\n",
       "      <td>1.1</td>\n",
       "      <td>8.1</td>\n",
       "      <td>2021-09-29 11:44:05</td>\n",
       "    </tr>\n",
       "    <tr>\n",
       "      <th>116</th>\n",
       "      <td>{'$oid': '6154438422486052ba7def11'}</td>\n",
       "      <td>1.1</td>\n",
       "      <td>9.2</td>\n",
       "      <td>2021-09-29 11:44:20</td>\n",
       "    </tr>\n",
       "    <tr>\n",
       "      <th>...</th>\n",
       "      <td>...</td>\n",
       "      <td>...</td>\n",
       "      <td>...</td>\n",
       "      <td>...</td>\n",
       "    </tr>\n",
       "    <tr>\n",
       "      <th>789867</th>\n",
       "      <td>{'$oid': '629203e95041e6ca60746225'}</td>\n",
       "      <td>0.1</td>\n",
       "      <td>17152.9</td>\n",
       "      <td>2022-05-28 12:13:45</td>\n",
       "    </tr>\n",
       "    <tr>\n",
       "      <th>789870</th>\n",
       "      <td>{'$oid': '629204165041e6ca60746228'}</td>\n",
       "      <td>0.1</td>\n",
       "      <td>17153.0</td>\n",
       "      <td>2022-05-28 12:14:30</td>\n",
       "    </tr>\n",
       "    <tr>\n",
       "      <th>790311</th>\n",
       "      <td>{'$oid': '62921e2a5041e6ca607463e1'}</td>\n",
       "      <td>0.2</td>\n",
       "      <td>17153.2</td>\n",
       "      <td>2022-05-28 14:05:46</td>\n",
       "    </tr>\n",
       "    <tr>\n",
       "      <th>790312</th>\n",
       "      <td>{'$oid': '62921e395041e6ca607463e2'}</td>\n",
       "      <td>0.4</td>\n",
       "      <td>17153.6</td>\n",
       "      <td>2022-05-28 14:06:01</td>\n",
       "    </tr>\n",
       "    <tr>\n",
       "      <th>790405</th>\n",
       "      <td>{'$oid': '629223b95041e6ca6074643f'}</td>\n",
       "      <td>0.1</td>\n",
       "      <td>17153.7</td>\n",
       "      <td>2022-05-28 14:29:29</td>\n",
       "    </tr>\n",
       "  </tbody>\n",
       "</table>\n",
       "<p>15869 rows × 4 columns</p>\n",
       "</div>"
      ],
      "text/plain": [
       "                                         _id  debit    cumul  \\\n",
       "112     {'$oid': '6154434722486052ba7def0d'}    1.2      5.0   \n",
       "113     {'$oid': '6154435722486052ba7def0e'}    1.2      6.2   \n",
       "114     {'$oid': '6154436622486052ba7def0f'}    0.8      7.0   \n",
       "115     {'$oid': '6154437522486052ba7def10'}    1.1      8.1   \n",
       "116     {'$oid': '6154438422486052ba7def11'}    1.1      9.2   \n",
       "...                                      ...    ...      ...   \n",
       "789867  {'$oid': '629203e95041e6ca60746225'}    0.1  17152.9   \n",
       "789870  {'$oid': '629204165041e6ca60746228'}    0.1  17153.0   \n",
       "790311  {'$oid': '62921e2a5041e6ca607463e1'}    0.2  17153.2   \n",
       "790312  {'$oid': '62921e395041e6ca607463e2'}    0.4  17153.6   \n",
       "790405  {'$oid': '629223b95041e6ca6074643f'}    0.1  17153.7   \n",
       "\n",
       "                      date  \n",
       "112    2021-09-29 11:43:19  \n",
       "113    2021-09-29 11:43:35  \n",
       "114    2021-09-29 11:43:50  \n",
       "115    2021-09-29 11:44:05  \n",
       "116    2021-09-29 11:44:20  \n",
       "...                    ...  \n",
       "789867 2022-05-28 12:13:45  \n",
       "789870 2022-05-28 12:14:30  \n",
       "790311 2022-05-28 14:05:46  \n",
       "790312 2022-05-28 14:06:01  \n",
       "790405 2022-05-28 14:29:29  \n",
       "\n",
       "[15869 rows x 4 columns]"
      ]
     },
     "execution_count": 16,
     "metadata": {},
     "output_type": "execute_result"
    }
   ],
   "source": [
    "#where water is running in our dataframe\n",
    "water_on=water_json_subset[water_json_subset['debit']!=0]\n",
    "water_on"
   ]
  },
  {
   "cell_type": "code",
   "execution_count": 17,
   "metadata": {},
   "outputs": [
    {
     "data": {
      "text/plain": [
       "<AxesSubplot:xlabel='cumul', ylabel='debit'>"
      ]
     },
     "execution_count": 17,
     "metadata": {},
     "output_type": "execute_result"
    },
    {
     "data": {
      "image/png": "[encoded data removed]",
      "text/plain": [
       "<Figure size 1440x720 with 1 Axes>"
      ]
     },
     "metadata": {
      "needs_background": "light"
     },
     "output_type": "display_data"
    }
   ],
   "source": [
    "#visualizing cumul en fonction du débit non nul\n",
    "water_json_subset[['cumul','debit']].plot(kind='scatter', x='cumul', y='debit', figsize=(20,10))"
   ]
  },
  {
   "cell_type": "code",
   "execution_count": 83,
   "metadata": {},
   "outputs": [
    {
     "data": {
      "text/plain": [
       "_id      0\n",
       "debit    0\n",
       "cumul    0\n",
       "date     0\n",
       "dtype: int64"
      ]
     },
     "execution_count": 83,
     "metadata": {},
     "output_type": "execute_result"
    }
   ],
   "source": [
    "#checking for null variables and_or missing values in the DB\n",
    "water_json_subset.isna().sum()"
   ]
  },
  {
   "cell_type": "code",
   "execution_count": 84,
   "metadata": {},
   "outputs": [
    {
     "data": {
      "text/plain": [
       "_id              object\n",
       "debit           float64\n",
       "cumul           float64\n",
       "date     datetime64[ns]\n",
       "dtype: object"
      ]
     },
     "execution_count": 84,
     "metadata": {},
     "output_type": "execute_result"
    }
   ],
   "source": [
    "#find out the nature of the dataset's values\n",
    "water_json_subset.dtypes"
   ]
  },
  {
   "cell_type": "code",
   "execution_count": 87,
   "metadata": {},
   "outputs": [
    {
     "data": {
      "text/plain": [
       "<AxesSubplot:>"
      ]
     },
     "execution_count": 87,
     "metadata": {},
     "output_type": "execute_result"
    },
    {
     "data": {
      "image/png": "[encoded data removed]",
      "text/plain": [
       "<Figure size 1440x720 with 1 Axes>"
      ]
     },
     "metadata": {
      "needs_background": "light"
     },
     "output_type": "display_data"
    }
   ],
   "source": [
    "#checking the distribution of the different trees names\n",
    "pd.DataFrame(water_json_subset['debit'].value_counts()).plot(kind='bar', figsize=(20,10))"
   ]
  },
  {
   "cell_type": "code",
   "execution_count": 18,
   "metadata": {},
   "outputs": [],
   "source": [
    "import matplotlib.pyplot as plt "
   ]
  },
  {
   "cell_type": "code",
   "execution_count": 19,
   "metadata": {},
   "outputs": [
    {
     "data": {
      "image/png": "[encoded data removed]",
      "text/plain": [
       "<Figure size 432x288 with 1 Axes>"
      ]
     },
     "metadata": {
      "needs_background": "light"
     },
     "output_type": "display_data"
    }
   ],
   "source": [
    "#visualize progression cumul en fct du temps (date)\n",
    "plt.plot(water_json_subset[\"cumul\"], water_json_subset[\"date\"]) \n",
    "plt.show()"
   ]
  },
  {
   "cell_type": "code",
   "execution_count": 27,
   "metadata": {},
   "outputs": [
    {
     "data": {
      "text/html": [
       "<div>\n",
       "<style scoped>\n",
       "    .dataframe tbody tr th:only-of-type {\n",
       "        vertical-align: middle;\n",
       "    }\n",
       "\n",
       "    .dataframe tbody tr th {\n",
       "        vertical-align: top;\n",
       "    }\n",
       "\n",
       "    .dataframe thead th {\n",
       "        text-align: right;\n",
       "    }\n",
       "</style>\n",
       "<table border=\"1\" class=\"dataframe\">\n",
       "  <thead>\n",
       "    <tr style=\"text-align: right;\">\n",
       "      <th></th>\n",
       "      <th>_id</th>\n",
       "      <th>debit</th>\n",
       "      <th>cumul</th>\n",
       "      <th>date</th>\n",
       "    </tr>\n",
       "  </thead>\n",
       "  <tbody>\n",
       "  </tbody>\n",
       "</table>\n",
       "</div>"
      ],
      "text/plain": [
       "Empty DataFrame\n",
       "Columns: [_id, debit, cumul, date]\n",
       "Index: []"
      ]
     },
     "execution_count": 27,
     "metadata": {},
     "output_type": "execute_result"
    }
   ],
   "source": [
    "#see data when comul = 0\n",
    "cumul_zero=water_json_subset[water_json_subset['cumul']==0]\n",
    "cumul_zero"
   ]
  },
  {
   "cell_type": "code",
   "execution_count": 88,
   "metadata": {},
   "outputs": [
    {
     "data": {
      "text/plain": [
       "<AxesSubplot:xlabel='date', ylabel='cumul'>"
      ]
     },
     "execution_count": 88,
     "metadata": {},
     "output_type": "execute_result"
    },
    {
     "data": {
      "image/png": "[encoded data removed]",
      "text/plain": [
       "<Figure size 1440x720 with 1 Axes>"
      ]
     },
     "metadata": {
      "needs_background": "light"
     },
     "output_type": "display_data"
    }
   ],
   "source": [
    "#Cumul en fct du temps \n",
    "water_json_subset[['cumul','date']].plot(kind='scatter', x='date', y='cumul', figsize=(20,10))"
   ]
  },
  {
   "cell_type": "markdown",
   "metadata": {},
   "source": [
    "# MIN & MAX time of on/off saturation"
   ]
  },
  {
   "cell_type": "markdown",
   "metadata": {},
   "source": [
    "1. ON Saturation"
   ]
  },
  {
   "cell_type": "code",
   "execution_count": 75,
   "metadata": {},
   "outputs": [
    {
     "data": {
      "text/html": [
       "<div>\n",
       "<style scoped>\n",
       "    .dataframe tbody tr th:only-of-type {\n",
       "        vertical-align: middle;\n",
       "    }\n",
       "\n",
       "    .dataframe tbody tr th {\n",
       "        vertical-align: top;\n",
       "    }\n",
       "\n",
       "    .dataframe thead th {\n",
       "        text-align: right;\n",
       "    }\n",
       "</style>\n",
       "<table border=\"1\" class=\"dataframe\">\n",
       "  <thead>\n",
       "    <tr style=\"text-align: right;\">\n",
       "      <th></th>\n",
       "      <th>_id</th>\n",
       "      <th>debit</th>\n",
       "      <th>cumul</th>\n",
       "      <th>date</th>\n",
       "    </tr>\n",
       "  </thead>\n",
       "  <tbody>\n",
       "    <tr>\n",
       "      <th>0</th>\n",
       "      <td>{'$oid': '61543c5dfcfbb44e6a99bbf2'}</td>\n",
       "      <td>0.0</td>\n",
       "      <td>3.8</td>\n",
       "      <td>2021-09-29 11:13:49</td>\n",
       "    </tr>\n",
       "    <tr>\n",
       "      <th>1</th>\n",
       "      <td>{'$oid': '61543c6cfcfbb44e6a99bbf3'}</td>\n",
       "      <td>0.0</td>\n",
       "      <td>3.8</td>\n",
       "      <td>2021-09-29 11:14:04</td>\n",
       "    </tr>\n",
       "    <tr>\n",
       "      <th>2</th>\n",
       "      <td>{'$oid': '61543c7cfcfbb44e6a99bbf4'}</td>\n",
       "      <td>0.0</td>\n",
       "      <td>3.8</td>\n",
       "      <td>2021-09-29 11:14:20</td>\n",
       "    </tr>\n",
       "    <tr>\n",
       "      <th>3</th>\n",
       "      <td>{'$oid': '61543c99e6e0e637b27d8a03'}</td>\n",
       "      <td>0.0</td>\n",
       "      <td>3.8</td>\n",
       "      <td>2021-09-29 11:14:49</td>\n",
       "    </tr>\n",
       "    <tr>\n",
       "      <th>4</th>\n",
       "      <td>{'$oid': '61543ca8e6e0e637b27d8a04'}</td>\n",
       "      <td>0.0</td>\n",
       "      <td>3.8</td>\n",
       "      <td>2021-09-29 11:15:04</td>\n",
       "    </tr>\n",
       "    <tr>\n",
       "      <th>...</th>\n",
       "      <td>...</td>\n",
       "      <td>...</td>\n",
       "      <td>...</td>\n",
       "      <td>...</td>\n",
       "    </tr>\n",
       "    <tr>\n",
       "      <th>115</th>\n",
       "      <td>{'$oid': '6154437522486052ba7def10'}</td>\n",
       "      <td>1.1</td>\n",
       "      <td>8.1</td>\n",
       "      <td>2021-09-29 11:44:05</td>\n",
       "    </tr>\n",
       "    <tr>\n",
       "      <th>116</th>\n",
       "      <td>{'$oid': '6154438422486052ba7def11'}</td>\n",
       "      <td>1.1</td>\n",
       "      <td>9.2</td>\n",
       "      <td>2021-09-29 11:44:20</td>\n",
       "    </tr>\n",
       "    <tr>\n",
       "      <th>117</th>\n",
       "      <td>{'$oid': '6154439322486052ba7def12'}</td>\n",
       "      <td>0.2</td>\n",
       "      <td>9.4</td>\n",
       "      <td>2021-09-29 11:44:35</td>\n",
       "    </tr>\n",
       "    <tr>\n",
       "      <th>118</th>\n",
       "      <td>{'$oid': '615443a222486052ba7def13'}</td>\n",
       "      <td>0.0</td>\n",
       "      <td>9.4</td>\n",
       "      <td>2021-09-29 11:44:50</td>\n",
       "    </tr>\n",
       "    <tr>\n",
       "      <th>119</th>\n",
       "      <td>{'$oid': '615443b122486052ba7def14'}</td>\n",
       "      <td>0.0</td>\n",
       "      <td>9.4</td>\n",
       "      <td>2021-09-29 11:45:05</td>\n",
       "    </tr>\n",
       "  </tbody>\n",
       "</table>\n",
       "<p>120 rows × 4 columns</p>\n",
       "</div>"
      ],
      "text/plain": [
       "                                      _id  debit  cumul                date\n",
       "0    {'$oid': '61543c5dfcfbb44e6a99bbf2'}    0.0    3.8 2021-09-29 11:13:49\n",
       "1    {'$oid': '61543c6cfcfbb44e6a99bbf3'}    0.0    3.8 2021-09-29 11:14:04\n",
       "2    {'$oid': '61543c7cfcfbb44e6a99bbf4'}    0.0    3.8 2021-09-29 11:14:20\n",
       "3    {'$oid': '61543c99e6e0e637b27d8a03'}    0.0    3.8 2021-09-29 11:14:49\n",
       "4    {'$oid': '61543ca8e6e0e637b27d8a04'}    0.0    3.8 2021-09-29 11:15:04\n",
       "..                                    ...    ...    ...                 ...\n",
       "115  {'$oid': '6154437522486052ba7def10'}    1.1    8.1 2021-09-29 11:44:05\n",
       "116  {'$oid': '6154438422486052ba7def11'}    1.1    9.2 2021-09-29 11:44:20\n",
       "117  {'$oid': '6154439322486052ba7def12'}    0.2    9.4 2021-09-29 11:44:35\n",
       "118  {'$oid': '615443a222486052ba7def13'}    0.0    9.4 2021-09-29 11:44:50\n",
       "119  {'$oid': '615443b122486052ba7def14'}    0.0    9.4 2021-09-29 11:45:05\n",
       "\n",
       "[120 rows x 4 columns]"
      ]
     },
     "execution_count": 75,
     "metadata": {},
     "output_type": "execute_result"
    }
   ],
   "source": [
    "water_json_date_subset = water_json_subset[['_id', 'debit', 'cumul', 'date']]\n",
    "water_json_date_subset.head(120)"
   ]
  },
  {
   "cell_type": "code",
   "execution_count": 33,
   "metadata": {},
   "outputs": [],
   "source": [
    "#separating date and time values \n",
    "water_json_date_subset['Dates'] = pd.to_datetime(water_json_date_subset['date']).dt.date\n",
    "water_json_date_subset['Time'] = pd.to_datetime(water_json_date_subset['date']).dt.time"
   ]
  },
  {
   "cell_type": "code",
   "execution_count": 52,
   "metadata": {},
   "outputs": [
    {
     "data": {
      "text/html": [
       "<div>\n",
       "<style scoped>\n",
       "    .dataframe tbody tr th:only-of-type {\n",
       "        vertical-align: middle;\n",
       "    }\n",
       "\n",
       "    .dataframe tbody tr th {\n",
       "        vertical-align: top;\n",
       "    }\n",
       "\n",
       "    .dataframe thead th {\n",
       "        text-align: right;\n",
       "    }\n",
       "</style>\n",
       "<table border=\"1\" class=\"dataframe\">\n",
       "  <thead>\n",
       "    <tr style=\"text-align: right;\">\n",
       "      <th></th>\n",
       "      <th>my_timestamp</th>\n",
       "      <th>dates</th>\n",
       "      <th>time</th>\n",
       "    </tr>\n",
       "  </thead>\n",
       "  <tbody>\n",
       "    <tr>\n",
       "      <th>0</th>\n",
       "      <td>2021-09-29 11:13:49</td>\n",
       "      <td>2021-09-29</td>\n",
       "      <td>11:13:49</td>\n",
       "    </tr>\n",
       "    <tr>\n",
       "      <th>1</th>\n",
       "      <td>2021-09-30 11:13:49</td>\n",
       "      <td>2021-09-30</td>\n",
       "      <td>11:13:49</td>\n",
       "    </tr>\n",
       "    <tr>\n",
       "      <th>2</th>\n",
       "      <td>2021-10-01 11:13:49</td>\n",
       "      <td>2021-10-01</td>\n",
       "      <td>11:13:49</td>\n",
       "    </tr>\n",
       "    <tr>\n",
       "      <th>3</th>\n",
       "      <td>2021-10-02 11:13:49</td>\n",
       "      <td>2021-10-02</td>\n",
       "      <td>11:13:49</td>\n",
       "    </tr>\n",
       "    <tr>\n",
       "      <th>4</th>\n",
       "      <td>2021-10-03 11:13:49</td>\n",
       "      <td>2021-10-03</td>\n",
       "      <td>11:13:49</td>\n",
       "    </tr>\n",
       "    <tr>\n",
       "      <th>...</th>\n",
       "      <td>...</td>\n",
       "      <td>...</td>\n",
       "      <td>...</td>\n",
       "    </tr>\n",
       "    <tr>\n",
       "      <th>237</th>\n",
       "      <td>2022-05-24 11:13:49</td>\n",
       "      <td>2022-05-24</td>\n",
       "      <td>11:13:49</td>\n",
       "    </tr>\n",
       "    <tr>\n",
       "      <th>238</th>\n",
       "      <td>2022-05-25 11:13:49</td>\n",
       "      <td>2022-05-25</td>\n",
       "      <td>11:13:49</td>\n",
       "    </tr>\n",
       "    <tr>\n",
       "      <th>239</th>\n",
       "      <td>2022-05-26 11:13:49</td>\n",
       "      <td>2022-05-26</td>\n",
       "      <td>11:13:49</td>\n",
       "    </tr>\n",
       "    <tr>\n",
       "      <th>240</th>\n",
       "      <td>2022-05-27 11:13:49</td>\n",
       "      <td>2022-05-27</td>\n",
       "      <td>11:13:49</td>\n",
       "    </tr>\n",
       "    <tr>\n",
       "      <th>241</th>\n",
       "      <td>2022-05-28 11:13:49</td>\n",
       "      <td>2022-05-28</td>\n",
       "      <td>11:13:49</td>\n",
       "    </tr>\n",
       "  </tbody>\n",
       "</table>\n",
       "<p>242 rows × 3 columns</p>\n",
       "</div>"
      ],
      "text/plain": [
       "           my_timestamp       dates      time\n",
       "0   2021-09-29 11:13:49  2021-09-29  11:13:49\n",
       "1   2021-09-30 11:13:49  2021-09-30  11:13:49\n",
       "2   2021-10-01 11:13:49  2021-10-01  11:13:49\n",
       "3   2021-10-02 11:13:49  2021-10-02  11:13:49\n",
       "4   2021-10-03 11:13:49  2021-10-03  11:13:49\n",
       "..                  ...         ...       ...\n",
       "237 2022-05-24 11:13:49  2022-05-24  11:13:49\n",
       "238 2022-05-25 11:13:49  2022-05-25  11:13:49\n",
       "239 2022-05-26 11:13:49  2022-05-26  11:13:49\n",
       "240 2022-05-27 11:13:49  2022-05-27  11:13:49\n",
       "241 2022-05-28 11:13:49  2022-05-28  11:13:49\n",
       "\n",
       "[242 rows x 3 columns]"
      ]
     },
     "execution_count": 52,
     "metadata": {},
     "output_type": "execute_result"
    }
   ],
   "source": [
    "water_json_date_subset = pd.DataFrame({'my_timestamp': pd.date_range(start='2021-09-29 11:13:49', end='2022-05-29 06:48:02')})\n",
    "water_json_date_subset['dates'] = [d.date() for d in water_json_date_subset['my_timestamp']]\n",
    "water_json_date_subset['time'] = [d.time() for d in water_json_date_subset['my_timestamp']]\n",
    "water_json_date_subset"
   ]
  },
  {
   "cell_type": "code",
   "execution_count": 61,
   "metadata": {},
   "outputs": [
    {
     "data": {
      "text/plain": [
       "0         2021-09-29\n",
       "1         2021-09-29\n",
       "2         2021-09-29\n",
       "3         2021-09-29\n",
       "4         2021-09-29\n",
       "             ...    \n",
       "794279    2022-05-29\n",
       "794280    2022-05-29\n",
       "794281    2022-05-29\n",
       "794282    2022-05-29\n",
       "794283    2022-05-29\n",
       "Name: date, Length: 794284, dtype: object"
      ]
     },
     "execution_count": 61,
     "metadata": {},
     "output_type": "execute_result"
    }
   ],
   "source": [
    "water_json_subset['date'].dt.date "
   ]
  },
  {
   "cell_type": "code",
   "execution_count": null,
   "metadata": {},
   "outputs": [],
   "source": []
  },
  {
   "cell_type": "markdown",
   "metadata": {},
   "source": [
    "# Periodic consumption time"
   ]
  },
  {
   "cell_type": "code",
   "execution_count": null,
   "metadata": {},
   "outputs": [],
   "source": [
    "\n"
   ]
  },
  {
   "cell_type": "markdown",
   "metadata": {},
   "source": [
    "# Seuil de consommation d'eau"
   ]
  },
  {
   "cell_type": "code",
   "execution_count": null,
   "metadata": {},
   "outputs": [],
   "source": []
  }
 ],
 "metadata": {
  "kernelspec": {
   "display_name": "Python 3.9.7 ('base')",
   "language": "python",
   "name": "python3"
  },
  "language_info": {
   "codemirror_mode": {
    "name": "ipython",
    "version": 3
   },
   "file_extension": ".py",
   "mimetype": "text/x-python",
   "name": "python",
   "nbconvert_exporter": "python",
   "pygments_lexer": "ipython3",
   "version": "3.9.7"
  },
  "orig_nbformat": 4,
  "vscode": {
   "interpreter": {
    "hash": "93cde7ea202bbb821582b29f0b715fedcbc5b2975b0a22889c2aff14bc3d0247"
   }
  }
 },
 "nbformat": 4,
 "nbformat_minor": 2
}
